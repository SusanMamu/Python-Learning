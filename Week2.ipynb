{
 "cells": [
  {
   "cell_type": "code",
   "execution_count": null,
   "metadata": {},
   "outputs": [],
   "source": [
    "#Lists and Loops\n",
    "# Understanding how lists are stored\n"
   ]
  },
  {
   "cell_type": "code",
   "execution_count": 2,
   "metadata": {},
   "outputs": [
    {
     "name": "stdout",
     "output_type": "stream",
     "text": [
      "a: [5, 10] b:[5, 10]\n"
     ]
    }
   ],
   "source": [
    "print(\"a: {} b:{}\".format(a,b))"
   ]
  },
  {
   "cell_type": "markdown",
   "metadata": {},
   "source": [
    "copying a list\n",
    "#using [:] to copy a lsit"
   ]
  },
  {
   "cell_type": "code",
   "execution_count": 6,
   "metadata": {},
   "outputs": [
    {
     "name": "stdout",
     "output_type": "stream",
     "text": [
      "data: [50, 10, 15, 20]\t data_copy:[5, 10, 15, 20]\n"
     ]
    }
   ],
   "source": [
    "data = [5,10,15,20]\n",
    "data_copy = data[:] # a single colon copies the list\n",
    "data[0]=50\n",
    "print(\"data: {}\\t data_copy:{}\".format(data,data_copy))"
   ]
  },
  {
   "cell_type": "markdown",
   "metadata": {},
   "source": [
    "# Loops \n",
    "# For Loops\n",
    "They are how programmers run the same lines of code several times .will always run until a condition is met.\n",
    "\n",
    "# syntax\n",
    "for num in range:\n",
    "example for num in range (5):\n",
    "keywords are for & in \n",
    "\n",
    "# Range()\n",
    "provides the atrt ,stop and the step \n",
    "example\n"
   ]
  },
  {
   "cell_type": "code",
   "execution_count": 8,
   "metadata": {},
   "outputs": [
    {
     "name": "stdout",
     "output_type": "stream",
     "text": [
      "value: 2\n",
      "value: 4\n",
      "value: 6\n",
      "value: 8\n"
     ]
    }
   ],
   "source": [
    "for num in range(2, 10, 2):\n",
    "    print(\"value: {}\".format(num))"
   ]
  },
  {
   "cell_type": "markdown",
   "metadata": {},
   "source": [
    "# continue statement\n",
    "is used to stop the iteration"
   ]
  },
  {
   "cell_type": "code",
   "execution_count": 9,
   "metadata": {},
   "outputs": [
    {
     "name": "stdout",
     "output_type": "stream",
     "text": [
      "0\n",
      "1\n",
      "2\n",
      "4\n"
     ]
    }
   ],
   "source": [
    "for num in range(5):\n",
    "    if num==3:\n",
    "        continue\n",
    "    print(num)"
   ]
  },
  {
   "cell_type": "markdown",
   "metadata": {},
   "source": [
    "# break statement\n"
   ]
  },
  {
   "cell_type": "code",
   "execution_count": 10,
   "metadata": {},
   "outputs": [
    {
     "name": "stdout",
     "output_type": "stream",
     "text": [
      "0\n",
      "1\n",
      "2\n"
     ]
    }
   ],
   "source": [
    "for num in range(5):\n",
    "    if num ==3:\n",
    "        break\n",
    "    print(num)\n",
    "    # the output will result in \"0,1,2\" because we broke the loop completely when num was equal to 3."
   ]
  },
  {
   "cell_type": "code",
   "execution_count": null,
   "metadata": {},
   "outputs": [],
   "source": []
  },
  {
   "cell_type": "markdown",
   "metadata": {},
   "source": [
    "# While Loops\n"
   ]
  },
  {
   "cell_type": "markdown",
   "metadata": {},
   "source": [
    "This is for condition based looping.\n",
    "example"
   ]
  },
  {
   "cell_type": "code",
   "execution_count": 3,
   "metadata": {},
   "outputs": [
    {
     "name": "stdout",
     "output_type": "stream",
     "text": [
      "10\n",
      "9\n",
      "8\n",
      "7\n",
      "6\n",
      "5\n",
      "4\n",
      "3\n",
      "2\n",
      "1\n"
     ]
    }
   ],
   "source": [
    "health = 10\n",
    "while health > 0:\n",
    "    print(health)\n",
    "    health -= 1"
   ]
  },
  {
   "cell_type": "code",
   "execution_count": 1,
   "metadata": {},
   "outputs": [
    {
     "name": "stdout",
     "output_type": "stream",
     "text": [
      "count is 0\n",
      "count is 1\n",
      "count is 2\n",
      "count is 3\n",
      "count is 4\n"
     ]
    }
   ],
   "source": [
    "count = 0\n",
    "while count< 5:\n",
    "    print(f\"count is {count}\")  \n",
    "    count += 1\n",
    "    "
   ]
  },
  {
   "cell_type": "markdown",
   "metadata": {},
   "source": [
    "# Nested loops\n",
    "loop inside another loop\n",
    "The inner loop is runs first then the outer loop"
   ]
  },
  {
   "cell_type": "code",
   "execution_count": 4,
   "metadata": {},
   "outputs": [
    {
     "name": "stdout",
     "output_type": "stream",
     "text": [
      "0 0\n",
      "0 1\n",
      "0 2\n",
      "1 0\n",
      "1 1\n",
      "1 2\n"
     ]
    }
   ],
   "source": [
    "for i in range(2):\n",
    "    for j in range(3):\n",
    "        print(i,j)\n",
    " "
   ]
  },
  {
   "cell_type": "markdown",
   "metadata": {},
   "source": [
    "# Working with loops\n",
    "checking length use len()\n",
    "\n"
   ]
  },
  {
   "cell_type": "code",
   "execution_count": 1,
   "metadata": {},
   "outputs": [
    {
     "name": "stdout",
     "output_type": "stream",
     "text": [
      "3\n"
     ]
    }
   ],
   "source": [
    "# checking the number of items within a list\n",
    "nums = [5, 10, 15]\n",
    "length= len(nums)\n",
    "print(length)"
   ]
  },
  {
   "cell_type": "markdown",
   "metadata": {},
   "source": [
    "# Adding items\n",
    "method 1\n",
    ".append() - will add the value within the oarenthesis to the back of the list.\n"
   ]
  },
  {
   "cell_type": "code",
   "execution_count": 2,
   "metadata": {},
   "outputs": [
    {
     "name": "stdout",
     "output_type": "stream",
     "text": [
      "[10, 20, 5]\n"
     ]
    }
   ],
   "source": [
    "nums = [10,20]\n",
    "nums.append(5)\n",
    "print(nums)"
   ]
  },
  {
   "cell_type": "markdown",
   "metadata": {},
   "source": [
    ".insert() method\n",
    "Requires an index to insert a value in to a specific location."
   ]
  },
  {
   "cell_type": "code",
   "execution_count": 8,
   "metadata": {},
   "outputs": [
    {
     "name": "stdout",
     "output_type": "stream",
     "text": [
      "['glove', 'ball', 'base']\n"
     ]
    }
   ],
   "source": [
    "# adding a value to the beginning of the list\n",
    "words = [\"ball\",\"base\"]\n",
    "words.insert(0,\"glove\")  # first number is the index ,second is the value\n",
    "print(words)"
   ]
  },
  {
   "cell_type": "markdown",
   "metadata": {},
   "source": [
    "# Removing items\n",
    ".pop()\n",
    "Removes an item but also returns it to be used in future.\n",
    "Removes the last item in the list however you can specify an index to remove as well."
   ]
  },
  {
   "cell_type": "code",
   "execution_count": 9,
   "metadata": {},
   "outputs": [
    {
     "name": "stdout",
     "output_type": "stream",
     "text": [
      "5 \n",
      " ['ball']\n"
     ]
    }
   ],
   "source": [
    "#using pop to remove items and saving to avariable to use later\n",
    "items = [5,\"ball\",True]\n",
    "items.pop()   # by default removes the last item\n",
    "removed_item = items.pop(0) # removes 5 and saves it into the variable\n",
    "print(removed_item,\"\\n\",items)"
   ]
  },
  {
   "cell_type": "markdown",
   "metadata": {},
   "source": [
    ".remove()\n",
    "allows us to remove items from a list based on their given value"
   ]
  },
  {
   "cell_type": "code",
   "execution_count": 10,
   "metadata": {},
   "outputs": [
    {
     "name": "stdout",
     "output_type": "stream",
     "text": [
      "['baseball', 'football', 'hockey']\n"
     ]
    }
   ],
   "source": [
    "# using the remove method with a try and except \n",
    "sports =[\"baseball\",\"soccer\",\"football\",\"hockey\"]\n",
    "try: \n",
    "    sports.remove(\"soccer\")\n",
    "except:\n",
    "    print(\"That item does not exist in the list\")\n",
    "print(sports)"
   ]
  },
  {
   "cell_type": "markdown",
   "metadata": {},
   "source": [
    "# Sorting a List\n",
    "sorted()\n",
    "Will work on either numerical or alphabetical lists but not one that is mixed.It returns a copy of the list so it doesn't alter the original."
   ]
  },
  {
   "cell_type": "code",
   "execution_count": 11,
   "metadata": {},
   "outputs": [
    {
     "name": "stdout",
     "output_type": "stream",
     "text": [
      "[5, 8, 0, 2] [0, 2, 5, 8]\n"
     ]
    }
   ],
   "source": [
    "#Using sorted on lists for numerical and alphabetical data\n",
    "nums = [5,8,0,2]\n",
    "sorted_nums =sorted(nums)  #save to a new variable to use later\n",
    "print(nums,sorted_nums)    # the original list is intact"
   ]
  },
  {
   "cell_type": "code",
   "execution_count": 13,
   "metadata": {},
   "outputs": [
    {
     "name": "stdout",
     "output_type": "stream",
     "text": [
      "['A', 'B', 'R', 'D', 'G', 'C'] ['A', 'B', 'C', 'D', 'G', 'R']\n"
     ]
    }
   ],
   "source": [
    "alphabets =['A','B','R','D','G','C']\n",
    "sorted_alphabets =sorted(alphabets)\n",
    "print(alphabets,sorted_alphabets)"
   ]
  },
  {
   "cell_type": "markdown",
   "metadata": {},
   "source": [
    ".sort()\n",
    "used for the same purpose only that it will change the original kist directly"
   ]
  },
  {
   "cell_type": "code",
   "execution_count": 14,
   "metadata": {},
   "outputs": [
    {
     "name": "stdout",
     "output_type": "stream",
     "text": [
      "[2, 3, 5, 5, 5]\n"
     ]
    }
   ],
   "source": [
    "# sorting a list with .sort()\n",
    "nums=[5,3,5,2,5]\n",
    "nums.sort()   #alters the original variable directly\n",
    "print(nums)"
   ]
  },
  {
   "cell_type": "markdown",
   "metadata": {},
   "source": [
    "# in and not in\n",
    "used to find items in a list"
   ]
  },
  {
   "cell_type": "code",
   "execution_count": 15,
   "metadata": {},
   "outputs": [
    {
     "name": "stdout",
     "output_type": "stream",
     "text": [
      "found\n",
      "not found\n"
     ]
    }
   ],
   "source": [
    "#using conditional statements on a list\n",
    "names =[\"jack\",\"mary\",\"robert\"]\n",
    "if \"mary\" in names:\n",
    "    print(\"found\")\n",
    "if \"jimmy\" not in names:\n",
    "    print(\"not found\")"
   ]
  },
  {
   "cell_type": "markdown",
   "metadata": {},
   "source": [
    "# Using loops in Lists\n",
    "#for"
   ]
  },
  {
   "cell_type": "code",
   "execution_count": 16,
   "metadata": {},
   "outputs": [
    {
     "name": "stdout",
     "output_type": "stream",
     "text": [
      "basketball\n",
      "hockey\n",
      "football\n"
     ]
    }
   ],
   "source": [
    "# using a for loop to print all items in a list\n",
    "sports = [\"basketball\",\"hockey\",\"football\"]\n",
    "for sport in sports:\n",
    "    print(sport)"
   ]
  },
  {
   "cell_type": "markdown",
   "metadata": {},
   "source": [
    "# While loops\n",
    "used for conditional looping"
   ]
  },
  {
   "cell_type": "code",
   "execution_count": 17,
   "metadata": {},
   "outputs": [
    {
     "name": "stdout",
     "output_type": "stream",
     "text": [
      "['jack', 'rob', 'bob', 'robert']\n",
      "['jack', 'rob', 'robert']\n"
     ]
    }
   ],
   "source": [
    "# using the while loop to remove a certain value\n",
    "names = [\"bob\",\"jack\",\"rob\",\"bob\",\"robert\"]\n",
    "while \"bob\" in names:\n",
    "    names.remove(\"bob\") # removes all instances of bob\n",
    "    print(names)"
   ]
  },
  {
   "cell_type": "code",
   "execution_count": null,
   "metadata": {},
   "outputs": [],
   "source": []
  },
  {
   "cell_type": "code",
   "execution_count": null,
   "metadata": {},
   "outputs": [],
   "source": []
  }
 ],
 "metadata": {
  "kernelspec": {
   "display_name": "Python 3",
   "language": "python",
   "name": "python3"
  },
  "language_info": {
   "codemirror_mode": {
    "name": "ipython",
    "version": 3
   },
   "file_extension": ".py",
   "mimetype": "text/x-python",
   "name": "python",
   "nbconvert_exporter": "python",
   "pygments_lexer": "ipython3",
   "version": "3.12.1"
  }
 },
 "nbformat": 4,
 "nbformat_minor": 2
}
