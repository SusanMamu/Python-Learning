{
 "cells": [
  {
   "cell_type": "code",
   "execution_count": 1,
   "metadata": {},
   "outputs": [
    {
     "name": "stdout",
     "output_type": "stream",
     "text": [
      "Hello, world.\n"
     ]
    }
   ],
   "source": [
    "# While clause will be executed as long as the while statementcondition is true\n",
    "\n",
    "spam = 0\n",
    "if spam < 5:\n",
    "    print('Hello, world.')\n",
    "    spam = spam +1\n",
    "\n",
    "    "
   ]
  },
  {
   "cell_type": "markdown",
   "metadata": {},
   "source": [
    "# Difference between if and while statement\n",
    " The difference is in how they behave. At the end of an if clause, the program \n",
    "execution continues after the if statement. \n",
    "\n",
    "But at the end of a while clause, \n",
    "the program execution jumps back to the start of the while statement. The \n",
    "while clause is often called the while loop or just the loop."
   ]
  },
  {
   "cell_type": "code",
   "execution_count": 2,
   "metadata": {},
   "outputs": [
    {
     "name": "stdout",
     "output_type": "stream",
     "text": [
      "Hello,world.\n",
      "Hello,world.\n",
      "Hello,world.\n",
      "Hello,world.\n",
      "Hello,world.\n"
     ]
    }
   ],
   "source": [
    "spam = 0\n",
    "while spam < 5:\n",
    "    print('Hello,world.')\n",
    "    spam = spam + 1"
   ]
  },
  {
   "cell_type": "code",
   "execution_count": 3,
   "metadata": {},
   "outputs": [
    {
     "name": "stdout",
     "output_type": "stream",
     "text": [
      "please type your name\n",
      "please type your name\n",
      "please type your name\n",
      "please type your name\n",
      "Thank you!\n"
     ]
    }
   ],
   "source": [
    "name = ''\n",
    "while name != 'your name':\n",
    "    print('please type your name')\n",
    "    name = input()\n",
    "\n",
    "print('Thank you!')\n"
   ]
  },
  {
   "cell_type": "markdown",
   "metadata": {},
   "source": [
    "# Break statements\n",
    "The break statement is used in Python to exit or \"break out\" of a loop prematurely. \n",
    "\n",
    "It is commonly used within for and while loops to terminate the loop iteration based on a certain condition.\n",
    "\n",
    "It exits the loop when a condition is met\n"
   ]
  },
  {
   "cell_type": "code",
   "execution_count": 4,
   "metadata": {},
   "outputs": [
    {
     "name": "stdout",
     "output_type": "stream",
     "text": [
      "0\n",
      "1\n",
      "2\n",
      "3\n"
     ]
    }
   ],
   "source": [
    "# Break can be used to terminate a loop prematurely\n",
    "x = 0\n",
    "while x <5:\n",
    "    print(x)\n",
    "\n",
    "    if x ==3:\n",
    "        break\n",
    "    x+=1"
   ]
  },
  {
   "cell_type": "code",
   "execution_count": 6,
   "metadata": {},
   "outputs": [
    {
     "name": "stdout",
     "output_type": "stream",
     "text": [
      "apple\n",
      "banana\n",
      "cherry\n"
     ]
    }
   ],
   "source": [
    "# Break can be used to terminate a loop when a condition is met\n",
    "fruits = ['apple','banana','cherry','date']\n",
    "for fruit in fruits:\n",
    "    print(fruit)\n",
    "\n",
    "    if fruit == 'cherry':\n",
    "        break"
   ]
  },
  {
   "cell_type": "code",
   "execution_count": 9,
   "metadata": {},
   "outputs": [
    {
     "name": "stdout",
     "output_type": "stream",
     "text": [
      "you entered : d\n",
      "you entered : e\n",
      "you entered : r\n",
      "you entered : a\n",
      "you entered : u\n",
      "you entered : o\n",
      "you entered : jh\n",
      "you entered : t\n",
      "exiting the loop...\n"
     ]
    }
   ],
   "source": [
    "# Using break to exit a loop based on user input\n",
    "while True:\n",
    "    user_input = input(\"Enter 'q' to quit: \")\n",
    "\n",
    "    if user_input == 'q':\n",
    "        print('exiting the loop...')\n",
    "\n",
    "        break\n",
    "    print('you entered :', user_input)"
   ]
  },
  {
   "cell_type": "code",
   "execution_count": 11,
   "metadata": {},
   "outputs": [
    {
     "name": "stdout",
     "output_type": "stream",
     "text": [
      "please type your name.\n",
      "susan\n",
      "Thank you\n",
      "please type your name.\n",
      "susan\n",
      "Thank you\n",
      "please type your name.\n",
      "your name\n"
     ]
    }
   ],
   "source": [
    "while True:\n",
    "    print('please type your name.')\n",
    "    name = input()\n",
    "    print(name)\n",
    "\n",
    "    if name == 'your name':\n",
    "        break\n",
    "\n",
    "    print('Thank you')"
   ]
  },
  {
   "cell_type": "markdown",
   "metadata": {},
   "source": [
    "# continue statements\n",
    "The continue statement is used in Python to skip the rest of the current iteration of a loop (either a for loop or a while loop) and continue with the next iteration. \n",
    "\n",
    "It is particularly useful when you want to skip certain iterations based on a condition, but you still want the loop to continue executing.\n"
   ]
  },
  {
   "cell_type": "code",
   "execution_count": 12,
   "metadata": {},
   "outputs": [
    {
     "name": "stdout",
     "output_type": "stream",
     "text": [
      "1\n",
      "3\n",
      "5\n"
     ]
    }
   ],
   "source": [
    "# With a while loop \n",
    "x = 0 \n",
    "while x<5:\n",
    "    x += 1\n",
    "\n",
    "    if x % 2 ==0:  # skip even numbers\n",
    "        continue\n",
    "\n",
    "    print(x)"
   ]
  },
  {
   "cell_type": "code",
   "execution_count": 13,
   "metadata": {},
   "outputs": [
    {
     "name": "stdout",
     "output_type": "stream",
     "text": [
      "apple\n",
      "banana\n",
      "date\n"
     ]
    }
   ],
   "source": [
    "fruits = ['apple','banana','cherry','date']\n",
    "\n",
    "for fruit in fruits:\n",
    "    if fruit == 'cherry':\n",
    "        continue    # skip cherry\n",
    "    print(fruit)"
   ]
  },
  {
   "cell_type": "code",
   "execution_count": 14,
   "metadata": {},
   "outputs": [
    {
     "name": "stdout",
     "output_type": "stream",
     "text": [
      "1\n",
      "5\n",
      "6\n",
      "8\n",
      "0\n"
     ]
    }
   ],
   "source": [
    "# Using continue to skip negative numbers \n",
    "numbers = [1,-2,5,6,8,-3,0]\n",
    "\n",
    "for num in numbers:\n",
    "    if num < 0:    # skip negative numbers\n",
    "        continue\n",
    "    print(num)"
   ]
  },
  {
   "cell_type": "code",
   "execution_count": 15,
   "metadata": {},
   "outputs": [
    {
     "name": "stdout",
     "output_type": "stream",
     "text": [
      "1\n"
     ]
    }
   ],
   "source": [
    "numbers = [1,-2,5,6,8,-3,0]\n",
    "\n",
    "for num in numbers:\n",
    "    if num < 0:    # break terminates the loop prematurely\n",
    "        break\n",
    "    print(num)"
   ]
  },
  {
   "cell_type": "code",
   "execution_count": null,
   "metadata": {},
   "outputs": [],
   "source": [
    "# using continue to skip even numbers and break to exit loop when a condition is met\n",
    "x = 0\n",
    "x "
   ]
  },
  {
   "cell_type": "code",
   "execution_count": 2,
   "metadata": {},
   "outputs": [
    {
     "name": "stdout",
     "output_type": "stream",
     "text": [
      "Who are you?\n",
      "Hello, Joe. What is the password? (It is a fish)\n",
      "Access granted\n"
     ]
    }
   ],
   "source": [
    "while True:\n",
    "    print('Who are you?')\n",
    "    name = input()\n",
    "    if name != 'joe':\n",
    "        continue\n",
    "    print('Hello, Joe. What is the password? (It is a fish)')\n",
    "    password = input()\n",
    "    if password != 'swordfish':\n",
    "        continue\n",
    "    print('Access granted')\n",
    "    break\n"
   ]
  },
  {
   "cell_type": "code",
   "execution_count": null,
   "metadata": {},
   "outputs": [],
   "source": []
  },
  {
   "cell_type": "code",
   "execution_count": null,
   "metadata": {},
   "outputs": [],
   "source": []
  }
 ],
 "metadata": {
  "kernelspec": {
   "display_name": "Python 3",
   "language": "python",
   "name": "python3"
  },
  "language_info": {
   "codemirror_mode": {
    "name": "ipython",
    "version": 3
   },
   "file_extension": ".py",
   "mimetype": "text/x-python",
   "name": "python",
   "nbconvert_exporter": "python",
   "pygments_lexer": "ipython3",
   "version": "3.12.1"
  }
 },
 "nbformat": 4,
 "nbformat_minor": 2
}
