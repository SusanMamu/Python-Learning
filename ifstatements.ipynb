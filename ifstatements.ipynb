{
 "cells": [
  {
   "cell_type": "code",
   "execution_count": 10,
   "metadata": {},
   "outputs": [
    {
     "name": "stdout",
     "output_type": "stream",
     "text": [
      "x is greater than or equal to 10\n"
     ]
    }
   ],
   "source": [
    "# single if statements\n",
    "x = 10\n",
    "if x >= 10:\n",
    "    print(\"x is greater than or equal to 10\")\n"
   ]
  },
  {
   "cell_type": "code",
   "execution_count": 5,
   "metadata": {},
   "outputs": [
    {
     "name": "stdout",
     "output_type": "stream",
     "text": [
      "x is positive\n"
     ]
    }
   ],
   "source": [
    "x = 10\n",
    "if x > 0:\n",
    "    print(\"x is positive\")\n"
   ]
  },
  {
   "cell_type": "code",
   "execution_count": 12,
   "metadata": {},
   "outputs": [
    {
     "name": "stdout",
     "output_type": "stream",
     "text": [
      "x is not positive\n"
     ]
    }
   ],
   "source": [
    "# if - else statements\n",
    "x = -5\n",
    "if x >0:\n",
    "    print(\"x is positive\")\n",
    "\n",
    "else:\n",
    "    print(\"x is not positive\")"
   ]
  },
  {
   "cell_type": "code",
   "execution_count": 13,
   "metadata": {},
   "outputs": [
    {
     "name": "stdout",
     "output_type": "stream",
     "text": [
      "average\n"
     ]
    }
   ],
   "source": [
    "# if -elif-else statement\n",
    "score = 85\n",
    "if score >= 90:\n",
    "    print(\"above average\")\n",
    "\n",
    "elif score <= 90:\n",
    "    print(\"average\")\n",
    "\n",
    "else:\n",
    "    print(\"below average\")"
   ]
  },
  {
   "cell_type": "code",
   "execution_count": 19,
   "metadata": {},
   "outputs": [
    {
     "name": "stdout",
     "output_type": "stream",
     "text": [
      "I don't know you!Introduce yourself\n"
     ]
    }
   ],
   "source": [
    "name = \"susan\"\n",
    "\n",
    "if name == \"cate\":\n",
    "    print(\"Hello cate. welcome\")\n",
    "\n",
    "elif name == \"john\":\n",
    "    print(\"you are male hence can not be susan\")\n",
    "\n",
    "elif name == \"Brian\":\n",
    "    print(\"Welcome susan. Been looking for you!\")\n",
    "\n",
    "else:\n",
    "    print(\"I don't know you!Introduce yourself\")"
   ]
  },
  {
   "cell_type": "code",
   "execution_count": null,
   "metadata": {},
   "outputs": [],
   "source": []
  }
 ],
 "metadata": {
  "kernelspec": {
   "display_name": "Python 3",
   "language": "python",
   "name": "python3"
  },
  "language_info": {
   "codemirror_mode": {
    "name": "ipython",
    "version": 3
   },
   "file_extension": ".py",
   "mimetype": "text/x-python",
   "name": "python",
   "nbconvert_exporter": "python",
   "pygments_lexer": "ipython3",
   "version": "3.12.1"
  }
 },
 "nbformat": 4,
 "nbformat_minor": 2
}
