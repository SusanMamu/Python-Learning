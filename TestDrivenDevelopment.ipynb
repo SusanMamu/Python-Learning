{
 "cells": [
  {
   "cell_type": "markdown",
   "metadata": {},
   "source": [
    "\n",
    "# Here are the basic steps of TDD in Python:\n",
    "\n",
    "\n",
    "\n",
    "1. Write a test: Write a test that defines the desired behavior of your code. The test should check that the code produces the correct output given a specific input.\n",
    "2. Run the test: Run the test to see if it fails. This is expected since you haven't written the code yet.\n",
    "3. Write the code: Write the code to make the test pass. Your goal is to make the test pass, not to write the most efficient or optimal code.\n",
    "4. Run the tests: Run the tests again to see if the code produces the expected output. If the tests pass, move on to the next test. If the tests fail, debug the code and fix the errors.\n",
    "5. Refactor the code: After the tests pass, you can refactor the code to make it more efficient or to improve its design. The tests serve as a safety net, ensuring that your changes don't break the code.\n",
    "6. Refactor the code: After the tests pass, you can refactor the code to make it more efficient or to improve its design. The tests serve as a safety net, ensuring that your changes don't break the code.\n",
    "7. Repeat the process: Repeat the steps of writing tests, writing code, and refactoring for each feature or component of your application"
   ]
  },
  {
   "cell_type": "code",
   "execution_count": 3,
   "metadata": {},
   "outputs": [],
   "source": [
    "#Implement TDD in a simple calculator\n",
    "\n",
    "# test_calculator\n",
    "from calculator import add, subtract,multiply,divide\n",
    "\n",
    "\n",
    "def test_addition():\n",
    "    assert add(2,3)==5\n",
    "\n",
    "def test_subtraction():\n",
    "    assert subtract(5,2)==3\n",
    "\n",
    "def test_multiplication():\n",
    "    assert multiply(4,3)==12\n",
    "\n",
    "def test_division():\n",
    "    assert divide(10,2)==5\n",
    "\n",
    "# calculator.py\n",
    "\n",
    "def add(a, b):\n",
    "    return a + b\n",
    "\n",
    "def subtract(a, b):\n",
    "    return a - b\n",
    "\n",
    "def multiply(a, b):\n",
    "    return a * b\n",
    "\n",
    "def divide(a, b):\n",
    "    if b == 0:\n",
    "        raise ValueError(\"Cannot divide by zero\")\n",
    "    return float(a) / b\n",
    "\n",
    "\n"
   ]
  },
  {
   "cell_type": "code",
   "execution_count": null,
   "metadata": {},
   "outputs": [],
   "source": []
  }
 ],
 "metadata": {
  "kernelspec": {
   "display_name": "Python 3",
   "language": "python",
   "name": "python3"
  },
  "language_info": {
   "codemirror_mode": {
    "name": "ipython",
    "version": 3
   },
   "file_extension": ".py",
   "mimetype": "text/x-python",
   "name": "python",
   "nbconvert_exporter": "python",
   "pygments_lexer": "ipython3",
   "version": "3.12.1"
  }
 },
 "nbformat": 4,
 "nbformat_minor": 2
}
