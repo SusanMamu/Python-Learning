{
 "cells": [
  {
   "cell_type": "markdown",
   "metadata": {},
   "source": [
    "# Python classes/ objects\n",
    "classes - Blueprint of an object\n",
    "Objects - An instance of a class\n",
    "Methods - represent behaviours\n",
    "Attributes - Information to be stored in a class ab out an object.\n",
    "\n",
    "# The __init__() Function\n",
    "- Used to assign values to object properties, or other operations that are necessary to do when the onject is being created.\n",
    "- Used for initializing newly created objects.Also known as a constructor method.\n"
   ]
  },
  {
   "cell_type": "code",
   "execution_count": 1,
   "metadata": {},
   "outputs": [
    {
     "name": "stdout",
     "output_type": "stream",
     "text": [
      "Name: Alice\n",
      "Age: 30\n"
     ]
    }
   ],
   "source": [
    "class Person:\n",
    "    def __init__(self, name, age):\n",
    "        self.name = name\n",
    "        self.age = age\n",
    "\n",
    "    def display_info(self):\n",
    "        print(\"Name:\", self.name)\n",
    "        print(\"Age:\", self.age)\n",
    "\n",
    "# Creating an instance of the Person class\n",
    "person1 = Person(\"Alice\", 30)\n",
    "\n",
    "# Calling the display_info() method to display the person's information\n",
    "person1.display_info()\n"
   ]
  },
  {
   "cell_type": "code",
   "execution_count": 3,
   "metadata": {},
   "outputs": [
    {
     "name": "stdout",
     "output_type": "stream",
     "text": [
      "Brand: Porsche\n",
      "Year: 2023\n"
     ]
    }
   ],
   "source": [
    "class Automobile:\n",
    "    def __init__(self, brand, year):\n",
    "        self.brand = brand\n",
    "        self.year = year\n",
    "    \n",
    "    def car_brand(self):\n",
    "        print(f'Brand: {self.brand}\\nYear: {self.year}')\n",
    "\n",
    "\n",
    "myCar = Automobile('Porsche', 2023)\n",
    "\n",
    "myCar.car_brand()\n",
    "        "
   ]
  },
  {
   "cell_type": "markdown",
   "metadata": {},
   "source": [
    "# The __str__() function\n",
    "- Controls what should be returned when the class onject is represented as a string."
   ]
  },
  {
   "cell_type": "code",
   "execution_count": 5,
   "metadata": {},
   "outputs": [
    {
     "name": "stdout",
     "output_type": "stream",
     "text": [
      "john\n"
     ]
    }
   ],
   "source": [
    "class person:\n",
    "    def __init__(self,name,age):\n",
    "        self.name = name\n",
    "        self.age = age\n",
    "\n",
    "p1 = person(\"john\", 36)\n",
    "\n",
    "print(p1.name)"
   ]
  },
  {
   "cell_type": "code",
   "execution_count": 12,
   "metadata": {},
   "outputs": [
    {
     "name": "stdout",
     "output_type": "stream",
     "text": [
      "John\t36\n"
     ]
    }
   ],
   "source": [
    "class person:\n",
    "    def __init__(self,name,age):\n",
    "        self.name = name\n",
    "        self.age = age\n",
    "\n",
    "    def __str__(self):\n",
    "        return f\"{self.name}\\t{self.age}\"\n",
    "    \n",
    "p1 = person(\"John\", 36)\n",
    "\n",
    "print(p1)"
   ]
  },
  {
   "cell_type": "markdown",
   "metadata": {},
   "source": [
    "# Object methods \n",
    "Are functions that belong to the object.\n",
    "\n",
    "# Inheritance\n",
    "Allows us to define a class that inherits all the methods and properties from another class.\n",
    "\n",
    "# Parent class \n",
    "- class being inherited from , also known as the base class.\n",
    "\n",
    "# Child class \n",
    "- Class that inherits from another class, also known as the derived class.\n"
   ]
  },
  {
   "cell_type": "code",
   "execution_count": 41,
   "metadata": {},
   "outputs": [
    {
     "name": "stdout",
     "output_type": "stream",
     "text": [
      "John Doe\n"
     ]
    }
   ],
   "source": [
    "# Creating a parent class.\n",
    "\n",
    "class Person:\n",
    "  def __init__(self, fname, lname):\n",
    "    self.firstname = fname\n",
    "    self.lastname = lname\n",
    "\n",
    "  def printname(self):   # printname is a method\n",
    "    print(self.firstname, self.lastname)\n",
    "\n",
    "  \n",
    "\n",
    "#Use the Person class to create an object, and then execute the printname method:\n",
    "\n",
    "x = Person(\"John\", \"Doe\")\n",
    "x.printname()"
   ]
  },
  {
   "cell_type": "markdown",
   "metadata": {},
   "source": [
    "# Creating a Child class.\n",
    "To create a class that inherits the functionalioty from another class, send the parent class as a parameter when creating the child class.\n",
    "\n",
    "# Add the __init__() Function\n",
    "- This function overried the inheritance of the parent's __init__() function.\n",
    "\n",
    "to keep the inheritance of the parent's __init__() function, add a call to the parent's __init__() function.\n",
    "\n",
    "# The super() Function\n",
    "Makes the child class inherit all the methods and properties from it's parent.\n",
    "By using this methods you do not have to use the name of the parent element, it will automatically inherit the methods and properties from its parent.\n",
    "\n",
    "# Add properties\n",
    "Add a property called graduationyear to the student class\n",
    "\n",
    "# Add methods\n",
    "Add a method called welcome to the student class\n"
   ]
  },
  {
   "cell_type": "code",
   "execution_count": 22,
   "metadata": {},
   "outputs": [
    {
     "name": "stdout",
     "output_type": "stream",
     "text": [
      "Welcome Mike John to the class of 2019\n"
     ]
    }
   ],
   "source": [
    "class Student(Person):\n",
    "    def __init__(self, fname, lname, graduationyear):\n",
    "        super().__init__(fname, lname)  # Call superclass constructor\n",
    "        self.graduationyear = graduationyear\n",
    "\n",
    "    def welcome(self):\n",
    "        print(\"Welcome\", self.firstname, self.lastname, \"to the class of\", self.graduationyear)\n",
    "\n",
    "# Create an instance of Student\n",
    "x = Student(\"Mike\", \"John\", 2019)\n",
    "x.welcome()  # Output: Welcome Mike John to the class of 2019\n"
   ]
  },
  {
   "cell_type": "code",
   "execution_count": 23,
   "metadata": {},
   "outputs": [
    {
     "name": "stdout",
     "output_type": "stream",
     "text": [
      "2020 Toyota Cmary\n",
      "color: Red\n"
     ]
    }
   ],
   "source": [
    "class Vehicle:\n",
    "    def __init__(self,make,model,year):\n",
    "        self.make = make\n",
    "        self.model = model\n",
    "        self.year = year\n",
    "\n",
    "    def info(self):\n",
    "        print(f\"{self.year} {self.make} {self.model}\")\n",
    "\n",
    "class Car(Vehicle):\n",
    "    def __init__(self,make,model,year,color):\n",
    "        super().__init__(make,model,year)\n",
    "        self.color = color\n",
    "\n",
    "    def display(self):\n",
    "        self.info()\n",
    "        print(f\"color: {self.color}\")\n",
    "\n",
    "\n",
    "# Create a Car onject\n",
    "my_car = Car(\"Toyota\", \"Cmary\", 2020, \"Red\")\n",
    "my_car.display()"
   ]
  },
  {
   "cell_type": "code",
   "execution_count": 27,
   "metadata": {},
   "outputs": [
    {
     "name": "stdout",
     "output_type": "stream",
     "text": [
      "Canine\n",
      "Labrador\n",
      "Woof!\n"
     ]
    }
   ],
   "source": [
    "class Animal:\n",
    "    def __init__(self, species):\n",
    "        self.species = species\n",
    "\n",
    "    def sound(self):\n",
    "        pass\n",
    "\n",
    "class Dog(Animal):\n",
    "    def __init__(self, species, breed):\n",
    "        super().__init__(species)  \n",
    "        self.breed = breed\n",
    "\n",
    "    def sound(self):\n",
    "        return \"Woof!\"\n",
    "\n",
    "# Create a Dog object\n",
    "my_dog = Dog(\"Canine\", \"Labrador\")\n",
    "print(my_dog.species)  # Output: Canine\n",
    "print(my_dog.breed)    # Output: Labrador\n",
    "print(my_dog.sound())  # Output: Woof!\n"
   ]
  },
  {
   "cell_type": "code",
   "execution_count": 32,
   "metadata": {},
   "outputs": [
    {
     "name": "stdout",
     "output_type": "stream",
     "text": [
      "The rectangle color is blue and it's area is 15\n"
     ]
    }
   ],
   "source": [
    "class shape:\n",
    "    def __init__(self,color):\n",
    "        self.color = color\n",
    "\n",
    "    #def area(self):\n",
    "        #pass\n",
    "class Rectangle(shape):\n",
    "    def __init__(self, color,height,width):\n",
    "        super().__init__(color)\n",
    "        self.height = height\n",
    "        self.width = width\n",
    "\n",
    "    def area(self):\n",
    "        return self.width * self.height\n",
    "    \n",
    "\n",
    "# Create a rectangle object\n",
    "my_rectangle = Rectangle(\"blue\", 5, 3)\n",
    "print(\"The rectangle color is {} and it's area is {}\".format(my_rectangle.color, my_rectangle.area()))\n",
    "\n"
   ]
  },
  {
   "cell_type": "markdown",
   "metadata": {},
   "source": [
    "# Iterators\n",
    "- An iterator is an object that contains a countable number of values.\n",
    "-The __iter__()  -  You can do operations (initializing etc) but must always return the iterator object itself.\n",
    "- The __next__() method also allows you to do operations and must return the next item in the sequence.\n",
    "\n",
    "# An example\n",
    "Creating an iterator that returns numbers , starting with 1 and each sequence will increase by one (returning 1,2,3,4,5 etc)"
   ]
  },
  {
   "cell_type": "code",
   "execution_count": 36,
   "metadata": {},
   "outputs": [
    {
     "name": "stdout",
     "output_type": "stream",
     "text": [
      "1\n",
      "2\n",
      "3\n",
      "4\n",
      "5\n"
     ]
    }
   ],
   "source": [
    "class MyNumbers:\n",
    "    def __iter__(self):\n",
    "        self.a = 1\n",
    "        return self\n",
    "    \n",
    "    def __next__(self):\n",
    "        x = self.a\n",
    "        self.a += 1\n",
    "        return x\n",
    "    \n",
    "myclass = MyNumbers()\n",
    "myiter = iter(myclass)\n",
    "\n",
    "print(next(myiter))\n",
    "print(next(myiter))\n",
    "print(next(myiter))\n",
    "print(next(myiter))\n",
    "print(next(myiter))"
   ]
  },
  {
   "cell_type": "markdown",
   "metadata": {},
   "source": [
    "# Stop iteration\n",
    "Used to stop iteration.\n",
    "- put a terminating condition after a specified number of times is reached."
   ]
  },
  {
   "cell_type": "code",
   "execution_count": 38,
   "metadata": {},
   "outputs": [
    {
     "name": "stdout",
     "output_type": "stream",
     "text": [
      "1\n",
      "2\n",
      "3\n",
      "4\n",
      "5\n",
      "6\n",
      "7\n",
      "8\n",
      "9\n",
      "10\n",
      "11\n",
      "12\n",
      "13\n",
      "14\n",
      "15\n",
      "16\n",
      "17\n",
      "18\n",
      "19\n",
      "20\n"
     ]
    }
   ],
   "source": [
    "class MyNumber:\n",
    "    def __iter__(self):\n",
    "        self.a = 1\n",
    "        return self\n",
    "    \n",
    "    def __next__(self):\n",
    "        if self.a <= 20:\n",
    "            x =self.a\n",
    "            self.a += 1\n",
    "            return x\n",
    "        else:\n",
    "            raise StopIteration\n",
    "        \n",
    "    \n",
    "myclass = MyNumber()\n",
    "myiter = iter(myclass)\n",
    "\n",
    "for x in myiter:\n",
    "    print(x)"
   ]
  },
  {
   "cell_type": "markdown",
   "metadata": {},
   "source": [
    "\n",
    "# Polymorphism\n",
    "- Means many forms.\n",
    "- It refers to methods/functions/operators with the same name that can be executed on many objects or classes.\n",
    "\n",
    "# Class Polymorphism.\n",
    "- Often used in class methods , where we can have multiple classes with the same method name.\n",
    "\n",
    "- For example , say we have three classes: car, Boat and plane and they all hacve a method called move()\n",
    "\n",
    "- Polymorphism demonstrates where different classes can define methods with the same name but perform different actions.\n",
    "- It allows objects of different classes to be treated uniformly."
   ]
  },
  {
   "cell_type": "code",
   "execution_count": 39,
   "metadata": {},
   "outputs": [
    {
     "name": "stdout",
     "output_type": "stream",
     "text": [
      "Drive!\n",
      "Sail!\n",
      "Fly!\n"
     ]
    }
   ],
   "source": [
    "class Car:\n",
    "  def __init__(self, brand, model):\n",
    "    self.brand = brand\n",
    "    self.model = model\n",
    "\n",
    "  def move(self):\n",
    "    print(\"Drive!\")\n",
    "\n",
    "class Boat:\n",
    "  def __init__(self, brand, model):\n",
    "    self.brand = brand\n",
    "    self.model = model\n",
    "\n",
    "  def move(self):\n",
    "    print(\"Sail!\")\n",
    "\n",
    "class Plane:\n",
    "  def __init__(self, brand, model):\n",
    "    self.brand = brand\n",
    "    self.model = model\n",
    "\n",
    "  def move(self):\n",
    "    print(\"Fly!\")\n",
    "\n",
    "car1 = Car(\"Ford\", \"Mustang\")       #Create a Car class\n",
    "boat1 = Boat(\"Ibiza\", \"Touring 20\") #Create a Boat class\n",
    "plane1 = Plane(\"Boeing\", \"747\")     #Create a Plane class\n",
    "\n",
    "for x in (car1, boat1, plane1):\n",
    "  x.move()"
   ]
  },
  {
   "cell_type": "code",
   "execution_count": 40,
   "metadata": {},
   "outputs": [
    {
     "name": "stdout",
     "output_type": "stream",
     "text": [
      "Ford\n",
      "Mustang\n",
      "Move!\n",
      "Ibiza\n",
      "Touring 20\n",
      "Sail!\n",
      "Boeing\n",
      "747\n",
      "Fly!\n"
     ]
    }
   ],
   "source": [
    "# Inheritance Class Polymorphism\n",
    "\n",
    "class Vehicle:\n",
    "  def __init__(self, brand, model):\n",
    "    self.brand = brand\n",
    "    self.model = model\n",
    "\n",
    "  def move(self):\n",
    "    print(\"Move!\")\n",
    "\n",
    "class Car(Vehicle):\n",
    "  pass\n",
    "\n",
    "class Boat(Vehicle):\n",
    "  def move(self):\n",
    "    print(\"Sail!\")\n",
    "\n",
    "class Plane(Vehicle):\n",
    "  def move(self):\n",
    "    print(\"Fly!\")\n",
    "\n",
    "car1 = Car(\"Ford\", \"Mustang\") #Create a Car object\n",
    "boat1 = Boat(\"Ibiza\", \"Touring 20\") #Create a Boat object\n",
    "plane1 = Plane(\"Boeing\", \"747\") #Create a Plane object\n",
    "\n",
    "for x in (car1, boat1, plane1):\n",
    "  print(x.brand)\n",
    "  print(x.model)\n",
    "  x.move()"
   ]
  },
  {
   "cell_type": "markdown",
   "metadata": {},
   "source": [
    "# Encapsulation\n",
    "- It the bundling of adat and the methods that operate on that data in to a single unit or class.\n",
    "- It is achieved through the use of access modifiers,primarily through public, private and protected access levels.\n",
    "- Public access - by default , all attributes and methods in a python class are public , meaning they can be accessed from outside the class.\n",
    "- Private access - Attributes and methods are accessible only within the calss itself. We denote private attributes and methods by prefixing them with double underscores \"__\".\n",
    "- Protected access - Protected attributes and methods are accessible within the class itself and its subclasses. We denote protected attributes and methods by prefixing them with a single underscore \"_\"\n",
    "\n",
    "- It helps in data hiding, abstraction and mpdularity. "
   ]
  },
  {
   "cell_type": "code",
   "execution_count": 6,
   "metadata": {},
   "outputs": [
    {
     "name": "stdout",
     "output_type": "stream",
     "text": [
      "Tesla\n",
      "Charging the Tesla\n",
      "Driving the Tesla\n"
     ]
    }
   ],
   "source": [
    "# Protected access\n",
    "class Car:\n",
    "    def __init__(self, brand):\n",
    "        self._brand = brand  # protected attribute\n",
    "        \n",
    "    def _drive(self):\n",
    "        print(\"Driving the\", self._brand)  # protected method\n",
    "\n",
    "class ElectricCar(Car):\n",
    "    def charge(self):\n",
    "        print(\"Charging the\", self._brand)  # Accessing protected attribute of superclass\n",
    "        self._drive()  # Accessing protected method of superclass\n",
    "\n",
    "my_electric_car = ElectricCar(\"Tesla\")\n",
    "print(my_electric_car._brand)  # Accessing protected attribute\n",
    "my_electric_car.charge()  # Accessing protected method\n"
   ]
  },
  {
   "cell_type": "code",
   "execution_count": 5,
   "metadata": {},
   "outputs": [
    {
     "name": "stdout",
     "output_type": "stream",
     "text": [
      "Driving the Toyota\n"
     ]
    }
   ],
   "source": [
    "# Private access\n",
    "class Car:\n",
    "    def __init__(self, brand):\n",
    "        self.__brand = brand  # private attribute\n",
    "        \n",
    "    def __drive(self):\n",
    "        print(\"Driving the\", self.__brand)  # private method\n",
    "        \n",
    "    def start(self):\n",
    "        self.__drive()  # Accessing private method\n",
    "\n",
    "my_car = Car(\"Toyota\")\n",
    "# print(my_car.__brand)  # This will raise an AttributeError\n",
    "# my_car.__drive()  # This will raise an AttributeError\n",
    "my_car.start()  # Accessing private method through a public method\n"
   ]
  },
  {
   "cell_type": "code",
   "execution_count": 3,
   "metadata": {},
   "outputs": [
    {
     "name": "stdout",
     "output_type": "stream",
     "text": [
      "Name: Rajaram marks: 50\n",
      "Name: Bharat marks: 25\n",
      "Name: Rajaram marks: 50\n",
      "Name: Bharat marks: 25\n"
     ]
    }
   ],
   "source": [
    "class Student:\n",
    "   def __init__(self, name=\"Rajaram\", marks=50):\n",
    "      self.__name = name\n",
    "      self.__marks = marks\n",
    "\n",
    "   def studentdata(self):\n",
    "      print(\"Name: {} marks: {}\".format(self.__name, self.__marks))\n",
    "      \n",
    "s1 = Student()\n",
    "s2 = Student(\"Bharat\", 25)\n",
    "\n",
    "s1.studentdata()\n",
    "s2.studentdata()\n",
    "\n",
    "# Accessing private attributes should be done via methods within the class\n",
    "# Let's use the studentdata() method to display the data\n",
    "# Alternatively, you can define getter methods to access these private attributes\n",
    "\n",
    "# Corrected access of attributes\n",
    "# print(\"Name: {} marks: {}\".format(s1.__name, s2.__marks))  # This will raise an AttributeError\n",
    "# print(\"Name: {} marks: {}\".format(s2.__name, __s2.marks))  # There's a typo here (__s2 should be s2)\n",
    "\n",
    "# Accessing data using the studentdata() method instead\n",
    "s1.studentdata()\n",
    "s2.studentdata()\n"
   ]
  },
  {
   "cell_type": "code",
   "execution_count": 4,
   "metadata": {},
   "outputs": [
    {
     "name": "stdout",
     "output_type": "stream",
     "text": [
      "Toyota\n",
      "Driving the Toyota\n"
     ]
    }
   ],
   "source": [
    "# Public access\n",
    "class Car:\n",
    "    def __init__(self, brand):\n",
    "        self.brand = brand  # public attribute\n",
    "        \n",
    "    def drive(self):\n",
    "        print(\"Driving the\", self.brand)  # public method\n",
    "\n",
    "my_car = Car(\"Toyota\")\n",
    "print(my_car.brand)  # Accessing public attribute\n",
    "my_car.drive()  # Calling public method\n"
   ]
  },
  {
   "cell_type": "markdown",
   "metadata": {},
   "source": [
    "# Abstraction\n",
    "- Only relevant data about an object is exposed, hiding all other details. Helps in reducing complexity and increasing the efficiency in development.\n",
    "\n",
    "# Types\n",
    "- Data absatraction - the original data entity is hidden via a data structure that can internally work through hidden data entities.\n",
    "\n",
    "- Process abstraction - Hiding the underlying implementation details of a process.\n",
    "\n",
    "- A class is said to be an abstract class if it cannot be instantiated, that is you can have an object of an abstract class.\n",
    "\n",
    "- To form an abstract class , it must inherit ABC class that is defined in the abc module available in python's standard library.\n",
    "\n",
    "- An abstract method- is one which cannot be called but can be overridden."
   ]
  },
  {
   "cell_type": "code",
   "execution_count": null,
   "metadata": {},
   "outputs": [],
   "source": []
  }
 ],
 "metadata": {
  "kernelspec": {
   "display_name": "Python 3",
   "language": "python",
   "name": "python3"
  },
  "language_info": {
   "codemirror_mode": {
    "name": "ipython",
    "version": 3
   },
   "file_extension": ".py",
   "mimetype": "text/x-python",
   "name": "python",
   "nbconvert_exporter": "python",
   "pygments_lexer": "ipython3",
   "version": "3.12.1"
  }
 },
 "nbformat": 4,
 "nbformat_minor": 2
}
