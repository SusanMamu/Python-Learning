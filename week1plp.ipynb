{
 "cells": [
  {
   "cell_type": "markdown",
   "metadata": {},
   "source": [
    "# Type conversion\n",
    "This is converting data from one type to another\n",
    "\n",
    "# Types\n",
    "Implicit conversion - Automatic conversion by python interpreter.\n",
    "Explicit conversion - manual\n"
   ]
  },
  {
   "cell_type": "code",
   "execution_count": 2,
   "metadata": {},
   "outputs": [
    {
     "name": "stdout",
     "output_type": "stream",
     "text": [
      "Value:  124.23\n",
      "Data Type:  <class 'float'>\n"
     ]
    }
   ],
   "source": [
    "# Implicit type conversion\n",
    "# Converting integer to float\n",
    "\n",
    "integer_number = 123\n",
    "float_number = 1.23\n",
    "new_numer = integer_number + float_number\n",
    "\n",
    "# Display new value and resulting data type\n",
    "print(\"Value: \", new_numer)\n",
    "print(\"Data Type: \",type(new_numer))"
   ]
  },
  {
   "cell_type": "markdown",
   "metadata": {},
   "source": [
    "# Implicit conversion \n",
    "Users convert the data type of an object to reuired data type.\n",
    "\n",
    "We use built in functions like int(), float(), str() etc .\n",
    "\n",
    "Also known as typecasting because the user casts (changes) the data type of the onjects .\n"
   ]
  },
  {
   "cell_type": "code",
   "execution_count": 8,
   "metadata": {},
   "outputs": [
    {
     "name": "stdout",
     "output_type": "stream",
     "text": [
      "Data type of num_string before type casting:  <class 'str'>\n",
      "Data type of num_string aftre type casting :  <class 'int'>\n",
      "sum:  35\n",
      "Data type of num_sum:  <class 'int'>\n"
     ]
    }
   ],
   "source": [
    "num_string = '12'\n",
    "num_integer = 23\n",
    "\n",
    "print(\"Data type of num_string before type casting: \",type(num_string))\n",
    " \n",
    "# explicit type conversion\n",
    "num_string = int(num_string)\n",
    "print(\"Data type of num_string aftre type casting : \", type(num_string))\n",
    "\n",
    "num_sum = num_integer + num_string\n",
    "print(\"sum: \", num_sum)\n",
    "print(\"Data type of num_sum: \", type(num_sum))\n"
   ]
  },
  {
   "cell_type": "markdown",
   "metadata": {},
   "source": [
    "# Operators\n",
    "Are special symbols that perform operations on variables and values.\n",
    "\n",
    "# Types of Python operators\n",
    "1. Arithmetic\n",
    "2. Assignment\n",
    "3. comparison\n",
    "4. Logical\n",
    "5. Bitwise \n",
    "6. Special\n",
    "\n",
    "\n",
    "# Arithmetic\n",
    "Are used to perform mathematical opearations like addition, subtraction, multiplication modulo (%)- gives remainder , floor division (//) returns the largest integer value as a result of division.\n"
   ]
  },
  {
   "cell_type": "markdown",
   "metadata": {},
   "source": []
  },
  {
   "cell_type": "code",
   "execution_count": 11,
   "metadata": {},
   "outputs": [
    {
     "name": "stdout",
     "output_type": "stream",
     "text": [
      "Modulo:  1\n",
      "Floor Division:  3\n"
     ]
    }
   ],
   "source": [
    "# Modulo\n",
    "a = 7\n",
    "b = 2\n",
    "print(\"Modulo: \", a%b)\n",
    "print(\"Floor Division: \", a//b)"
   ]
  },
  {
   "cell_type": "markdown",
   "metadata": {},
   "source": [
    "# Assignment \n",
    "Used to assign values to variables\n",
    "eg \n",
    "1. = asssignment operator\n",
    "2. += addition assignment\n",
    "3. -= subtraction\n",
    "4. *= Muiltiplication\n",
    "5. /= Division Assignment\n",
    "6. %= Remainder assignment\n",
    "7. **= Exponent \n"
   ]
  },
  {
   "cell_type": "markdown",
   "metadata": {},
   "source": [
    "# Comparison\n",
    "Used to compare two values/variables and return a boolean result: True or False\n",
    "1. == is Equal to\n",
    "2. != Not Equal to \n",
    "3. > Greater Than\n",
    "4. < Less than\n",
    "5. >= Greater than or Equal to \n",
    "6. <= Less Than or Equal to \n",
    "\n",
    "They are used in decision making and loops"
   ]
  },
  {
   "cell_type": "markdown",
   "metadata": {},
   "source": [
    "# Logical Operators\n",
    "Used to check whether an expression is True or False.Used in decision making.\n",
    "\n",
    "1. and  True only if both the operands are true\n",
    "2. or  True if at least one of the operands is True\n",
    "3. not True if the operand is False and vice versa."
   ]
  },
  {
   "cell_type": "code",
   "execution_count": 17,
   "metadata": {},
   "outputs": [
    {
     "name": "stdout",
     "output_type": "stream",
     "text": [
      "False\n"
     ]
    }
   ],
   "source": [
    "a = 5\n",
    "b = 6\n",
    "if a >5 and b <=6:\n",
    "    print(True)\n",
    "else:\n",
    "    print(False)"
   ]
  },
  {
   "cell_type": "markdown",
   "metadata": {},
   "source": [
    "# Data structures in python\n",
    "Allows you to organize and arrange your data to perform operations on them.\n",
    "\n",
    "There are built-in and user-defined data structures.\n",
    "There are primitive data types.\n",
    "\n",
    "# Primitive data types\n",
    "Are basic data types that are directly supported by the programming language.\n",
    "They are immutable\n",
    "They are simple and have a fixed size in memory\n",
    " eg integer, float , boolean , character, NoneType(\"None\") represnt the absence of value.\n",
    "\n",
    " # Non primitive data types\n",
    " # Also known as composite or reference data\n",
    "They are more complex data types. Can contain both primitive and non primitive.\n",
    "They can store collections of data or even complex objects.\n",
    "They are mutable\n",
    "They dont have a fized size in memory. Vary based on the data they contain.\n",
    "\n",
    "\n",
    "\n",
    "# Built in \n",
    "1. Lists\n",
    "2. Tuples\n",
    "3. Dictionary\n",
    "4. Set\n",
    "\n",
    "# User defined\n",
    "1. Stack\n",
    "2. Queue\n",
    "3. Tree\n",
    "4. Linked list\n",
    "5. Graph\n",
    "6. Hashmap\n",
    "\n",
    "\n",
    "# LISTS\n",
    "\n",
    "# Slicing \n",
    "-Allows you to extract a specific range of elements from the list.\n",
    "\n",
    "# Syntax list[start:stop:step]\n",
    "start -     The starting index of the slice .It defaults to '0'.\n",
    "Stop - The ending of the slice .The slice will go up to but not include the element at this index. If stop is not specified , slicing goes through the end of the list.\n",
    "Step -  The step size of the slice.It defaults to '1' which means selecting every element within the start:stop ramge. If specified , it determines the increment between indices in the slice."
   ]
  },
  {
   "cell_type": "code",
   "execution_count": 11,
   "metadata": {},
   "outputs": [
    {
     "name": "stdout",
     "output_type": "stream",
     "text": [
      "[2, 3, 4]\n",
      "[0, 1, 2, 3, 4]\n",
      "[5, 6, 7, 8]\n",
      "[0, 2, 4, 6, 8]\n",
      "[8, 7, 6, 5, 4, 3, 2, 1, 0]\n",
      "[6, 7]\n"
     ]
    }
   ],
   "source": [
    "# Slicing from the 3rd to the 5th\n",
    "\n",
    "my_list = [0,1,2,3,4,5,6,7,8]\n",
    "print(my_list[2:5])\n",
    "\n",
    "# slicing from the beginning to the 5th\n",
    "print(my_list[:5])\n",
    "\n",
    "# slicing from the 6th element \n",
    "print(my_list[5:])\n",
    "\n",
    "# slicing with a step.This will select every element between the 2nd and \n",
    "print(my_list[0::2])\n",
    "\n",
    "# Slicing with a negative step.a common way to reverse a list\n",
    "print(my_list[::-1])\n",
    "\n",
    "# slicing with negatice indices.This slices from the third-last to the second last element\n",
    "print(my_list[-3:-1])"
   ]
  },
  {
   "cell_type": "markdown",
   "metadata": {},
   "source": [
    "# list.append \n",
    "Add an item to the end of the list.\n",
    "\n",
    "# list.extend() \n",
    "Appends elements from another list to the current list.\n",
    "\n",
    "# List.insert()\n",
    "Insert a new list item without replacing any of the existing values.\n",
    "\n",
    "# List.remove()\n",
    "Removes the specified item.\n",
    "If there are more than one item with the specified value, the remove() methods removes the first occurance.\n",
    "\n",
    "# List.pop()\n",
    "Removes the specified index.\n",
    "If you don't specify the index, the pop() method removes the last item.\n",
    "\n",
    "# del keyword\n",
    "Also removes the specified index.\n",
    "\n",
    "# list.clear()\n",
    "Empties the list.\n",
    "\n",
    "# List.count()\n",
    "Return the number of items in the list.\n",
    "\n",
    "# List.sort()\n",
    "It's used to sort the elements of a list in place.Arranges the elements of the list in ascending order by default.\n",
    "modifies the original list and does not return anything .If you want to create a new sorted list without modifying the original, you can use the sorted() function\n",
    "\n",
    "# List.sort(key=custom_criteria) eg my_list.sort(key=len)\n",
    "Used to specify custom sorting criteria.\n",
    "\n",
    "# List.reverse()\n",
    "Sorts the list in descending order.\n",
    "\n",
    "# List.copy()\n",
    "Return a shallow copy of the list.\n",
    "\n",
    "\n",
    "\n",
    "\n"
   ]
  },
  {
   "cell_type": "code",
   "execution_count": 8,
   "metadata": {},
   "outputs": [
    {
     "name": "stdout",
     "output_type": "stream",
     "text": [
      "['apple', 'banana', 'mango', 'pineaplle', 'papaya']\n",
      "['apple', 'banana', 'mango', 'papaya', 'pineaplle']\n",
      "['apple', 'banana', 'mango', 'papaya', 'pineaplle']\n",
      "['apple', 'banana', 'mango', 'papaya', 'pineaplle']\n"
     ]
    }
   ],
   "source": [
    "thislist=[\"apple\",\"banana\"]\n",
    "tropical=[\"mango\",\"pineaplle\",\"papaya\"]\n",
    "thislist.extend(tropical)\n",
    "print(thislist)\n",
    "\n",
    "#thislist.pop(1)\n",
    "#print(thislist)\n",
    "\n",
    "#thislist.pop()\n",
    "#print(thislist)\n",
    "#del thislist[0]\n",
    "#print(thislist)\n",
    "#del thislist()\n",
    "#print(thislist)\n",
    "\n",
    "thislist.sort()\n",
    "print(thislist)\n",
    "sorted_list = sorted(thislist)\n",
    "print(sorted_list)\n",
    "\n",
    "newlist =thislist.copy()\n",
    "print(newlist)\n"
   ]
  },
  {
   "cell_type": "markdown",
   "metadata": {},
   "source": [
    "# Loop through the index numbers\n",
    "\n",
    "Use range() and len() functions to create a suitable iterable"
   ]
  },
  {
   "cell_type": "code",
   "execution_count": 1,
   "metadata": {},
   "outputs": [
    {
     "name": "stdout",
     "output_type": "stream",
     "text": [
      "apple\n",
      "banana\n",
      "cherry\n"
     ]
    }
   ],
   "source": [
    "thislist = [\"apple\", \"banana\", \"cherry\"]\n",
    "for i in range(len(thislist)):\n",
    "    print(thislist[i])"
   ]
  },
  {
   "cell_type": "markdown",
   "metadata": {},
   "source": [
    "# While loop\n",
    "use the len() function to determenine the length of the list,the start at 0 and loop uour way through the list items by referring to their indexex.\n",
    "\n",
    "Also increase the index by 1 after each iteration."
   ]
  },
  {
   "cell_type": "code",
   "execution_count": 2,
   "metadata": {},
   "outputs": [
    {
     "name": "stdout",
     "output_type": "stream",
     "text": [
      "['apple', 'banana', 'cherry']\n",
      "['apple', 'banana', 'cherry']\n",
      "['apple', 'banana', 'cherry']\n"
     ]
    }
   ],
   "source": [
    "thislist =[\"apple\", \"banana\", \"cherry\"]\n",
    "i = 0\n",
    "while i < len(thislist):\n",
    "    print(thislist)\n",
    "    i =i+1"
   ]
  },
  {
   "cell_type": "code",
   "execution_count": 4,
   "metadata": {},
   "outputs": [
    {
     "name": "stdout",
     "output_type": "stream",
     "text": [
      "9\n",
      "6\n",
      "5\n"
     ]
    }
   ],
   "source": [
    "mylist = ['pineapple','banana','mango']\n",
    "\n",
    "index = 0\n",
    "while index < len(mylist):\n",
    "    element = mylist[index]\n",
    "    print(len(element))\n",
    "    index += 1\n"
   ]
  },
  {
   "cell_type": "markdown",
   "metadata": {},
   "source": [
    "# Looping using List comprehension\n",
    "A short hand for loop that will print all items in a list.Offers a shorter way of creating alist.\n",
    "\n",
    "# The syntax\n",
    "newlist = [expression for item in iterable if condition==true]"
   ]
  },
  {
   "cell_type": "code",
   "execution_count": 5,
   "metadata": {},
   "outputs": [
    {
     "name": "stdout",
     "output_type": "stream",
     "text": [
      "apple\n",
      "bananan\n",
      "cherry\n"
     ]
    },
    {
     "data": {
      "text/plain": [
       "[None, None, None]"
      ]
     },
     "execution_count": 5,
     "metadata": {},
     "output_type": "execute_result"
    }
   ],
   "source": [
    "thislist = ['apple','bananan','cherry']\n",
    "[print(x) for x in thislist]"
   ]
  },
  {
   "cell_type": "code",
   "execution_count": 7,
   "metadata": {},
   "outputs": [
    {
     "name": "stdout",
     "output_type": "stream",
     "text": [
      "['kiwi']\n"
     ]
    }
   ],
   "source": [
    "# without comprehension\n",
    "fruits =['apple','banana','cherry','kiwi','mango']\n",
    "newlist =[]\n",
    "\n",
    "for x in fruits:\n",
    "    if 'i' in x:\n",
    "        newlist.append(x)\n",
    "\n",
    "print(newlist)"
   ]
  },
  {
   "cell_type": "code",
   "execution_count": 8,
   "metadata": {},
   "outputs": [
    {
     "name": "stdout",
     "output_type": "stream",
     "text": [
      "['apple', 'banana', 'mango']\n"
     ]
    }
   ],
   "source": [
    "# with comprehension\n",
    "\n",
    "fruits =['apple','banana','cherry','kiwi','mango']\n",
    "newlist = [x for x in fruits if 'a' in x]\n",
    "\n",
    "print(newlist)"
   ]
  },
  {
   "cell_type": "code",
   "execution_count": 10,
   "metadata": {},
   "outputs": [
    {
     "name": "stdout",
     "output_type": "stream",
     "text": [
      "['banana', 'kiwi', 'mango', 'orange', 'pineapple']\n",
      "[1, 9, 20, 30, 40]\n"
     ]
    }
   ],
   "source": [
    "# Sorting the list alphabetically\n",
    "thislist = [\"orange\", \"mango\", \"kiwi\", \"pineapple\", \"banana\"]\n",
    "thislist.sort()\n",
    "print(thislist)\n",
    "\n",
    "# sorting numerically\n",
    "thislist=[1,9,20,40,30]\n",
    "thislist.sort()\n",
    "print(thislist)"
   ]
  },
  {
   "cell_type": "markdown",
   "metadata": {},
   "source": [
    "# Tuples\n",
    "To create  a tuple with one item you have to add a comma after the item.\n",
    "\n",
    "# NB\n",
    "List - a collection which is ordered and changeable.Allows duplicate members.\n",
    "\n",
    "Tuple - a collection which is ordered and unchangeable.Allows duplicate members.\n",
    "\n",
    "Set - a collection  which is unordered , unchangeable and unidexed.No duplicate members. Are unchangeable but you can remove/add items whenever you like.\n",
    "\n",
    "Dictionary - a collection which is ordered and changeable.No duplicate members."
   ]
  },
  {
   "cell_type": "code",
   "execution_count": 11,
   "metadata": {},
   "outputs": [
    {
     "name": "stdout",
     "output_type": "stream",
     "text": [
      "('orange', 'kiwi', 'melon')\n"
     ]
    }
   ],
   "source": [
    "thistuple = (\"apple\", \"banana\", \"cherry\", \"orange\", \"kiwi\", \"melon\", \"mango\")\n",
    "print(thistuple[-4:-1])"
   ]
  },
  {
   "cell_type": "code",
   "execution_count": 14,
   "metadata": {},
   "outputs": [
    {
     "name": "stdout",
     "output_type": "stream",
     "text": [
      "Yes, 'apple' is in the fruits tuple\n"
     ]
    }
   ],
   "source": [
    "# check if \"apple\" is present in the tuple\n",
    "thistuple = (\"apple\", \"banana\", \"cherry\")\n",
    "if \"apple\" in thistuple:\n",
    "  print(\"Yes, 'apple' is in the fruits tuple\")"
   ]
  },
  {
   "cell_type": "markdown",
   "metadata": {},
   "source": [
    "# Since tuples are unchangeable and immutable, \n",
    "You can't change once created but there is a workaround.\n",
    "\n",
    "You can convert into a list , change the list and convert the list back in to a tuple.\n"
   ]
  },
  {
   "cell_type": "code",
   "execution_count": 15,
   "metadata": {},
   "outputs": [
    {
     "name": "stdout",
     "output_type": "stream",
     "text": [
      "('apple', 'kiwi', 'cherry')\n"
     ]
    }
   ],
   "source": [
    "x = (\"apple\", \"banana\", \"cherry\")\n",
    "y = list(x)\n",
    "y[1] = \"kiwi\"\n",
    "x = tuple(y)\n",
    "\n",
    "print(x)"
   ]
  },
  {
   "cell_type": "markdown",
   "metadata": {},
   "source": [
    "# Unpacking\n",
    "Is extracting values back into variables.Use asterisk to assign values to a variable as a list."
   ]
  },
  {
   "cell_type": "code",
   "execution_count": 17,
   "metadata": {},
   "outputs": [
    {
     "name": "stdout",
     "output_type": "stream",
     "text": [
      "apple\n",
      "banana\n",
      "['cherry', 'strawberry', 'raspberry']\n"
     ]
    }
   ],
   "source": [
    "fruits = (\"apple\", \"banana\", \"cherry\", \"strawberry\", \"raspberry\")\n",
    "\n",
    "#(green, yellow, *red) = fruits\n",
    "(green, yellow, *red) = fruits\n",
    "\n",
    "print(green)\n",
    "print(yellow)\n",
    "print(red)"
   ]
  },
  {
   "cell_type": "code",
   "execution_count": 18,
   "metadata": {},
   "outputs": [
    {
     "name": "stdout",
     "output_type": "stream",
     "text": [
      "apple\n",
      "['mango', 'papaya', 'pineapple']\n",
      "cherry\n"
     ]
    }
   ],
   "source": [
    "fruits = (\"apple\", \"mango\", \"papaya\", \"pineapple\", \"cherry\")\n",
    "\n",
    "(green, *tropic, red) = fruits\n",
    "\n",
    "print(green)\n",
    "print(tropic)\n",
    "print(red)"
   ]
  },
  {
   "cell_type": "code",
   "execution_count": 19,
   "metadata": {},
   "outputs": [
    {
     "name": "stdout",
     "output_type": "stream",
     "text": [
      "apple\n",
      "banana\n",
      "cherry\n"
     ]
    }
   ],
   "source": [
    "thistuple = (\"apple\", \"banana\", \"cherry\")\n",
    "i = 0\n",
    "while i < len(thistuple):\n",
    "  print(thistuple[i])\n",
    "  i = i + 1"
   ]
  },
  {
   "cell_type": "markdown",
   "metadata": {},
   "source": [
    "# Join Two Tuples\n",
    "To join two or more tuples you can use the + operator."
   ]
  },
  {
   "cell_type": "code",
   "execution_count": 21,
   "metadata": {},
   "outputs": [
    {
     "name": "stdout",
     "output_type": "stream",
     "text": [
      "('a', 'b', 'c', 1, 2, 3)\n",
      "('apple', 'banana', 'cherry', 'apple', 'banana', 'cherry')\n"
     ]
    }
   ],
   "source": [
    "tuple1 = (\"a\", \"b\" , \"c\")\n",
    "tuple2 = (1, 2, 3)\n",
    "\n",
    "tuple3 = tuple1 + tuple2\n",
    "print(tuple3)\n",
    "\n",
    "# Multiplying use * operator\n",
    "fruits = (\"apple\", \"banana\", \"cherry\")\n",
    "mytuple = fruits * 2\n",
    "\n",
    "print(mytuple)"
   ]
  },
  {
   "cell_type": "markdown",
   "metadata": {},
   "source": [
    "# Tuple methods\n",
    "Python has two built in methods that you cn use on tuples.\n",
    "1. count() \n",
    "Returns the number of times a specified value occurs in a tuple.\n",
    "2. index() \n",
    "Searches the tuple for a specified value and returns the position of where it was found."
   ]
  },
  {
   "cell_type": "markdown",
   "metadata": {},
   "source": [
    "# SETS\n",
    "Written with curly brackets.\n",
    "Is a collection which is ordered, unchangeable and unidexed.Do not allow duplicate items.\n",
    "Can not be referred to by index or key\n",
    "Set items can be of any data types.\n",
    "\n",
    "# NB\n",
    "The values True and 1 are considered the same value in sets, and are treated as duplicates.\n",
    "\n",
    "False and 0 are considered the same value in sets , and are treated as duplicates.\n",
    "\n",
    "# Length of a set\n",
    "Use len() function\n",
    "\n",
    "# The set() constructor\n",
    "It is possible to use the set() constructor to make a  set.\n",
    "\n",
    "# Access items\n",
    "You can not access itmes in a set by referring to an index or a key.Instead you can loop through the set items using a for loop or ask if a specified value is present in a set by using the in keyword.\n",
    "\n",
    "# Add items\n",
    "Once a set is c reated you cannot change its items but you can add new items.\n",
    "Use the add() method.\n",
    "\n",
    "# Update()\n",
    "Used to add items from another set.\n",
    "\n",
    "# removing items\n",
    "Use remove() or discard() methods to remove items from a set.\n",
    "You can also use the pop() method to remove an item , but this method will remove a random item so you cannot be sure what items gets removed.\n",
    "The return value of pop() method is the removed item.\n",
    "\n",
    "# clear() \n",
    "Empties the set.\n",
    "\n",
    "# del() \n",
    "Deletes the set completely.\n",
    "\n",
    "# Join two sets\n",
    "You can use union() method - returns a new set containing all items from both sets.\n",
    "\n",
    "update() - inserts all items from one set into another.\n",
    "\n",
    "Both methods will exclude any duplicate items.\n",
    "\n",
    "# Keep ONLY the duplicates\n",
    "Intersection_update() - Keeps only the items that ate present in both sets\n",
    "\n",
    "# symmetric_difference_update() method\n",
    "Keeps only the elements that are NOT present in both sets.\n",
    "\n",
    "\n"
   ]
  },
  {
   "cell_type": "markdown",
   "metadata": {},
   "source": [
    "# Method\tDescription\n",
    "1. add()\tAdds an element to the set\n",
    "\n",
    "2. clear()\tRemoves all the elements from the set\n",
    "\n",
    "3. copy()\tReturns a copy of the set\n",
    "\n",
    "4. difference()\tReturns a set containing the difference between two or more sets\n",
    "\n",
    "5. difference_update()\tRemoves the items in this set that are also included in another, specified set\n",
    "\n",
    "6. discard()\tRemove the specified item\n",
    "\n",
    "7. intersection()\tReturns a set, that is the intersection of two other sets\n",
    "\n",
    "8. intersection_update()\tRemoves the items in this set that are not present in other, specified set(s)\n",
    "\n",
    "9. isdisjoint()\tReturns whether two sets have a intersection or not\n",
    "\n",
    "10. issubset()\tReturns whether another set contains this set or not\n",
    "\n",
    "11. issuperset()\tReturns whether this set contains another set or not\n",
    "\n",
    "12. pop()\tRemoves an element from the set\n",
    "\n",
    "13. remove()\tRemoves the specified element\n",
    "\n",
    "14. symmetric_difference()\tReturns a set with the symmetric differences of two sets\n",
    "\n",
    "15. symmetric_difference_update()\tinserts the symmetric differences from this set and another\n",
    "\n",
    "16. union()\tReturn a set containing the union of sets\n",
    "\n",
    "17. update()\tUpdate the set with the union of this set and others"
   ]
  },
  {
   "cell_type": "code",
   "execution_count": 40,
   "metadata": {},
   "outputs": [
    {
     "name": "stdout",
     "output_type": "stream",
     "text": [
      "{'microsoft', 'google', 'cherry', 'banana'}\n"
     ]
    }
   ],
   "source": [
    "# Keep the items that are not present in both sets\n",
    "x = {\"apple\", \"banana\", \"cherry\"}\n",
    "y = {\"google\", \"microsoft\", \"apple\"}\n",
    "\n",
    "x.symmetric_difference_update(y)\n",
    "\n",
    "print(x)"
   ]
  },
  {
   "cell_type": "code",
   "execution_count": 39,
   "metadata": {},
   "outputs": [
    {
     "name": "stdout",
     "output_type": "stream",
     "text": [
      "{'apple'}\n"
     ]
    }
   ],
   "source": [
    "# Keep the items that exist in both set x and set y\n",
    "x = {\"apple\", \"banana\", \"cherry\"}\n",
    "y = {\"google\", \"microsoft\", \"apple\"}\n",
    "\n",
    "x.intersection_update(y)\n",
    "\n",
    "print(x)"
   ]
  },
  {
   "cell_type": "code",
   "execution_count": 38,
   "metadata": {},
   "outputs": [
    {
     "name": "stdout",
     "output_type": "stream",
     "text": [
      "{1, 2, 3, 'b', 'a', 'c'}\n",
      "{1, 2, 3, 'b', 'a', 'c'}\n"
     ]
    }
   ],
   "source": [
    "# Union\n",
    "\n",
    "set1 = {\"a\", \"b\" , \"c\"}\n",
    "set2 = {1, 2, 3}\n",
    "\n",
    "set3 = set1.union(set2)\n",
    "print(set3)\n",
    "\n",
    "# Update\n",
    "set1 = {\"a\", \"b\" , \"c\"}\n",
    "set2 = {1, 2, 3}\n",
    "\n",
    "set1.update(set2)\n",
    "print(set1)\n",
    "\n"
   ]
  },
  {
   "cell_type": "code",
   "execution_count": 36,
   "metadata": {},
   "outputs": [
    {
     "name": "stdout",
     "output_type": "stream",
     "text": [
      "banana\n",
      "{'cherry', 'apple'}\n"
     ]
    }
   ],
   "source": [
    "thisset = {\"apple\", \"banana\", \"cherry\"}\n",
    "\n",
    "x = thisset.pop()\n",
    "\n",
    "print(x)\n",
    "\n",
    "print(thisset)"
   ]
  },
  {
   "cell_type": "code",
   "execution_count": 27,
   "metadata": {},
   "outputs": [
    {
     "name": "stdout",
     "output_type": "stream",
     "text": [
      "{'banana', 'cherry', 'apple'}\n",
      "3\n",
      "3\n",
      "{'banana', 'cherry', 'apple'}\n"
     ]
    }
   ],
   "source": [
    "# Duplicate values will be ignored\n",
    "\n",
    "thisset = {\"apple\", \"banana\", \"cherry\", \"apple\"}\n",
    "\n",
    "print(thisset)\n",
    "print(len(thisset))\n",
    "\n",
    "thisset = {\"apple\", \"banana\", \"cherry\"}\n",
    "\n",
    "print(len(thisset))\n",
    "\n",
    "#Using the set() constructor to make a set:\n",
    "\n",
    "thisset = set((\"apple\", \"banana\", \"cherry\")) # note the double round-brackets\n",
    "print(thisset)"
   ]
  },
  {
   "cell_type": "code",
   "execution_count": 23,
   "metadata": {},
   "outputs": [
    {
     "name": "stdout",
     "output_type": "stream",
     "text": [
      "{True, 2, 'banana', 'cherry', 'apple'}\n"
     ]
    }
   ],
   "source": [
    "thisset = {\"apple\", \"banana\", \"cherry\", True, 1, 2}\n",
    "\n",
    "print(thisset)"
   ]
  },
  {
   "cell_type": "code",
   "execution_count": 28,
   "metadata": {},
   "outputs": [
    {
     "name": "stdout",
     "output_type": "stream",
     "text": [
      "banana\n",
      "cherry\n",
      "apple\n"
     ]
    }
   ],
   "source": [
    "thisset = {\"apple\", \"banana\", \"cherry\"}\n",
    "\n",
    "for x in thisset:\n",
    "  print(x)"
   ]
  },
  {
   "cell_type": "code",
   "execution_count": 32,
   "metadata": {},
   "outputs": [
    {
     "name": "stdout",
     "output_type": "stream",
     "text": [
      "{'banana', 'orange', 'cherry', 'apple'}\n"
     ]
    }
   ],
   "source": [
    "thisset = {\"apple\", \"banana\", \"cherry\"}\n",
    "\n",
    "thisset.add(\"orange\")\n",
    "\n",
    "print(thisset)"
   ]
  },
  {
   "cell_type": "code",
   "execution_count": 34,
   "metadata": {},
   "outputs": [
    {
     "name": "stdout",
     "output_type": "stream",
     "text": [
      "{'orange', 'kiwi', 'cherry', 'apple', 'banana'}\n"
     ]
    }
   ],
   "source": [
    "thisset = {\"apple\", \"banana\", \"cherry\"}\n",
    "mylist = [\"kiwi\", \"orange\"]\n",
    "\n",
    "thisset.update(mylist)\n",
    "\n",
    "print(thisset)"
   ]
  },
  {
   "cell_type": "markdown",
   "metadata": {},
   "source": [
    "# DICTIONARY.\n",
    "They are used to store data values in KEY:VALUE pairs.\n",
    "A collection which is oredered, changeable and do not allow duplicates.\n",
    "\n",
    "Items can be referred to by using the key name.\n",
    "Written with curly brackets.\n",
    "\n",
    "Dictionaries are ordered.Items have a defined order\n",
    "\n",
    "# Len() = to determine the length\n",
    "\n",
    "Data types can be of any data type.\n",
    "\n",
    "# dict() - constructor method\n",
    "You can use the dict() method to make a disctionary.\n",
    "\n",
    "# Accessing items.\n",
    "You access the items by referring to its key name, inside square brackets. You can also use the get() method\n",
    "\n",
    "# keys()\n",
    "Returns a list of all the keys in the dictionary.\\\n",
    "\n",
    "# values() \n",
    "Returns a list of all the values in the dictionary\n",
    "\n",
    "# items()\n",
    "Reurns each item in a dictionary as tuples in a list\n",
    "\n",
    "# Change values\n",
    "You can change the value of a specific item by referring to its key name.\n",
    "\n",
    "# Update()\n",
    "Updates the dictionary with the items from the given arguemnet whixh must be a dictionary, or an iterable object with key:value pairs .\n",
    "\n",
    "# Removing items\n",
    "pop()  - removes the item with the specified key name\n",
    "\n",
    "# popitem()\n",
    "-removes the last inserted item\n",
    "\n",
    "# del()\n",
    "\n",
    "Removes the item with the specified key name\n",
    "\n",
    "# clear()\n",
    "Empties the dictionary\n",
    "\n",
    "# copy() or dict()\n",
    "Makes a copy of the dictionary\n",
    "\n",
    "# Nested dictionaries\n",
    "A dictionary can contain dictionaries\n",
    "\n",
    "# Accessing items in Nested dictionaries\n",
    "You use the name of the dictionaries starting with the outer dictionary\n",
    "\n",
    "\n",
    "# DICTIONARY METHODS\n",
    "\n",
    "# Method\tDescription\n",
    "1. clear()\tRemoves all the elements from the dictionary\n",
    "\n",
    "2. copy()\tReturns a copy of the dictionary\n",
    "\n",
    "3. fromkeys()\tReturns a dictionary with the specified keys and value\n",
    "\n",
    "4. get()\tReturns the value of the specified key\n",
    "\n",
    "5. items()\tReturns a list containing a tuple for each key value pair\n",
    "\n",
    "6. keys()\tReturns a list containing the dictionary's keys\n",
    "\n",
    "7. pop()\tRemoves the element with the specified key\n",
    "\n",
    "8. popitem()\tRemoves the last inserted key-value pair\n",
    "\n",
    "9. setdefault()\tReturns the value of the specified key. If the key does not exist: insert the key, with the specified value\n",
    "\n",
    "10. update()\tUpdates the dictionary with the specified key-value pairs\n",
    "\n",
    "11. values()\tReturns a list of all the values in the dictionary\n"
   ]
  },
  {
   "cell_type": "code",
   "execution_count": 57,
   "metadata": {},
   "outputs": [
    {
     "name": "stdout",
     "output_type": "stream",
     "text": [
      "Tobias\n"
     ]
    }
   ],
   "source": [
    "# Nested dictionaries\n",
    "child1 = {\n",
    "  \"name\" : \"Emil\",\n",
    "  \"year\" : 2004\n",
    "}\n",
    "child2 = {\n",
    "  \"name\" : \"Tobias\",\n",
    "  \"year\" : 2007\n",
    "}\n",
    "child3 = {\n",
    "  \"name\" : \"Linus\",\n",
    "  \"year\" : 2011\n",
    "}\n",
    "\n",
    "myfamily = {\n",
    "  \"child1\" : child1,\n",
    "  \"child2\" : child2,\n",
    "  \"child3\" : child3\n",
    "}\n",
    "\n",
    "# to access nested dictionaries\n",
    "print(myfamily[\"child2\"][\"name\"])"
   ]
  },
  {
   "cell_type": "code",
   "execution_count": 56,
   "metadata": {},
   "outputs": [
    {
     "name": "stdout",
     "output_type": "stream",
     "text": [
      "{'brand': 'Ford', 'model': 'Mustang', 'year': 1964}\n"
     ]
    }
   ],
   "source": [
    "# copy() method\n",
    "\n",
    "thisdict = {\n",
    "  \"brand\": \"Ford\",\n",
    "  \"model\": \"Mustang\",\n",
    "  \"year\": 1964\n",
    "}\n",
    "mydict = thisdict.copy()\n",
    "print(mydict)"
   ]
  },
  {
   "cell_type": "code",
   "execution_count": 55,
   "metadata": {},
   "outputs": [
    {
     "name": "stdout",
     "output_type": "stream",
     "text": [
      "{'brand': 'Ford', 'year': 1964}\n"
     ]
    }
   ],
   "source": [
    "thisdict = {\n",
    "  \"brand\": \"Ford\",\n",
    "  \"model\": \"Mustang\",\n",
    "  \"year\": 1964\n",
    "}\n",
    "del thisdict[\"model\"]\n",
    "print(thisdict)"
   ]
  },
  {
   "cell_type": "code",
   "execution_count": 54,
   "metadata": {},
   "outputs": [
    {
     "name": "stdout",
     "output_type": "stream",
     "text": [
      "{'brand': 'Ford', 'model': 'Mustang'}\n"
     ]
    }
   ],
   "source": [
    "thisdict = {\n",
    "  \"brand\": \"Ford\",\n",
    "  \"model\": \"Mustang\",\n",
    "  \"year\": 1964\n",
    "}\n",
    "thisdict.popitem()\n",
    "print(thisdict)"
   ]
  },
  {
   "cell_type": "code",
   "execution_count": 53,
   "metadata": {},
   "outputs": [
    {
     "name": "stdout",
     "output_type": "stream",
     "text": [
      "{'brand': 'Ford', 'year': 1964}\n"
     ]
    }
   ],
   "source": [
    "# Pop() method\n",
    "\n",
    "thisdict = {\n",
    "  \"brand\": \"Ford\",\n",
    "  \"model\": \"Mustang\",\n",
    "  \"year\": 1964\n",
    "}\n",
    "thisdict.pop(\"model\")\n",
    "print(thisdict)"
   ]
  },
  {
   "cell_type": "code",
   "execution_count": 52,
   "metadata": {},
   "outputs": [
    {
     "name": "stdout",
     "output_type": "stream",
     "text": [
      "{'brand': 'Ford', 'model': 'Mustang', 'year': 2020}\n"
     ]
    }
   ],
   "source": [
    "# update the \"year\" of the car by using the update() method\n",
    "\n",
    "thisdict = {\n",
    "  \"brand\": \"Ford\",\n",
    "  \"model\": \"Mustang\",\n",
    "  \"year\": 1964\n",
    "}\n",
    "thisdict.update({\"year\": 2020})\n",
    "print(thisdict)"
   ]
  },
  {
   "cell_type": "code",
   "execution_count": 50,
   "metadata": {},
   "outputs": [
    {
     "name": "stdout",
     "output_type": "stream",
     "text": [
      "dict_keys(['brand', 'model', 'year'])\n",
      "dict_keys(['brand', 'model', 'year', 'color'])\n"
     ]
    }
   ],
   "source": [
    "car = {\n",
    "\"brand\": \"Ford\",\n",
    "\"model\": \"Mustang\",\n",
    "\"year\": 1964\n",
    "}\n",
    "\n",
    "x = car.keys()\n",
    "\n",
    "print(x) #before the change\n",
    "\n",
    "car[\"color\"] = \"white\"\n",
    "\n",
    "print(x) #after the change"
   ]
  },
  {
   "cell_type": "code",
   "execution_count": 47,
   "metadata": {},
   "outputs": [
    {
     "name": "stdout",
     "output_type": "stream",
     "text": [
      "{'name': 'John', 'age': 36, 'country': 'Norway'}\n"
     ]
    }
   ],
   "source": [
    "thisdict = dict(name = \"John\", age = 36, country = \"Norway\")\n",
    "print(thisdict)"
   ]
  },
  {
   "cell_type": "code",
   "execution_count": 48,
   "metadata": {},
   "outputs": [
    {
     "name": "stdout",
     "output_type": "stream",
     "text": [
      "{'brand': 'Ford', 'model': 'Mustang', 'year': 2020}\n",
      "Ford\n",
      "2020\n",
      "<class 'dict'>\n",
      "dict_keys(['brand', 'model', 'year'])\n"
     ]
    }
   ],
   "source": [
    "thisdict = {\n",
    "  \"brand\": \"Ford\",\n",
    "  \"model\": \"Mustang\",\n",
    "  \"year\": 1964,\n",
    "  \"year\": 2020\n",
    "}\n",
    "print(thisdict)\n",
    "print(thisdict[\"brand\"])\n",
    "print(thisdict[\"year\"])  # Duplicate values will overwrite existing values\n",
    "print(type(thisdict))\n",
    "x = thisdict.keys()\n",
    "print(x)"
   ]
  },
  {
   "cell_type": "code",
   "execution_count": 49,
   "metadata": {},
   "outputs": [
    {
     "name": "stdout",
     "output_type": "stream",
     "text": [
      "dict_keys(['brand', 'model', 'year'])\n",
      "dict_keys(['brand', 'model', 'year', 'color'])\n"
     ]
    }
   ],
   "source": [
    "car = {\n",
    "\"brand\": \"Ford\",\n",
    "\"model\": \"Mustang\",\n",
    "\"year\": 1964\n",
    "}\n",
    "\n",
    "x = car.keys()\n",
    "\n",
    "print(x) #before the change\n",
    "\n",
    "car[\"color\"] = \"white\"\n",
    "\n",
    "print(x) #after the change"
   ]
  },
  {
   "cell_type": "markdown",
   "metadata": {},
   "source": [
    "# STRINGS \n",
    "# Multiline strings\n",
    "You can assign a multiline string to a variable by using three quotes\n",
    "\n",
    "# strip()  \n",
    "Removes any space before and /or after the actual text.\n",
    "\n",
    "# STRING METHODS\n",
    "capitalize()\tConverts the first character to upper case\n",
    "\n",
    "\n",
    "casefold()\tConverts string into lower case\n",
    "\n",
    "center()\tReturns a centered string\n",
    "\n",
    "count()\tReturns the number of times a specified value occurs in a string\n",
    "\n",
    "encode()\tReturns an encoded version of the string\n",
    "\n",
    "endswith()\tReturns true if the string ends with the specified value\n",
    "\n",
    "expandtabs()\tSets the tab size of the string\n",
    "\n",
    "find()\tSearches the string for a specified value and returns the position of where it was found\n",
    "\n",
    "format()\tFormats specified values in a string\n",
    "\n",
    "format_map()\tFormats specified values in a string\n",
    "\n",
    "index()\tSearches the string for a specified value and returns the position of where it was found\n",
    "\n",
    "isalnum()\tReturns True if all characters in the string are alphanumeric\n",
    "\n",
    "isalpha()\tReturns True if all characters in the string are in the alphabet\n",
    "\n",
    "isascii()\tReturns True if all characters in the string are ascii characters\n",
    "\n",
    "isdecimal()\tReturns True if all characters in the string are decimals\n",
    "\n",
    "isdigit()\tReturns True if all characters in the string are digits\n",
    "\n",
    "isidentifier()\tReturns True if the string is an identifier\n",
    "\n",
    "islower()\tReturns True if all characters in the string are lower case\n",
    "\n",
    "isnumeric()\tReturns True if all characters in the string are numeric\n",
    "\n",
    "isprintable()\tReturns True if all characters in the string are printable\n",
    "\n",
    "isspace()\tReturns True if all characters in the string are whitespaces\n",
    "\n",
    "istitle()\tReturns True if the string follows the rules of a title\n",
    "isupper()\tReturns True if all characters in the string are upper case\n",
    "\n",
    "join()\tJoins the elements of an iterable to the end of the string\n",
    "\n",
    "ljust()\tReturns a left justified version of the string\n",
    "\n",
    "lower()\tConverts a string into lower case\n",
    "\n",
    "lstrip()\tReturns a left trim version of the string\n",
    "\n",
    "maketrans()\tReturns a translation table to be used in translations\n",
    "\n",
    "partition()\tReturns a tuple where the string is parted into three parts\n",
    "\n",
    "replace()\tReturns a string where a specified value is replaced with a specified value\n",
    "\n",
    "rfind()\tSearches the string for a specified value and returns the last position of where it was found\n",
    "\n",
    "rindex()\tSearches the string for a specified value and returns the last position of where it was found\n",
    "\n",
    "rjust()\tReturns a right justified version of the string\n",
    "\n",
    "rpartition()\tReturns a tuple where the string is parted into three parts\n",
    "\n",
    "rsplit()\tSplits the string at the specified separator, and returns a list\n",
    "\n",
    "rstrip()\tReturns a right trim version of the string\n",
    "\n",
    "split()\tSplits the string at the specified separator, and returns a list\n",
    "\n",
    "splitlines()\tSplits the string at line breaks and returns a list\n",
    "\n",
    "startswith()\tReturns true if the string starts with the specified value\n",
    "\n",
    "strip()\tReturns a trimmed version of the string\n",
    "\n",
    "swapcase()\tSwaps cases, lower case becomes upper case and vice versa\n",
    "\n",
    "title()\tConverts the first character of each word to upper case \n",
    "\n",
    "translate()\tReturns a translated string\n",
    "\n",
    "upper()\tConverts a string into upper case\n",
    "\n",
    "zfill()\tFills the string with a specified number of 0 values at the beginning"
   ]
  },
  {
   "cell_type": "code",
   "execution_count": 58,
   "metadata": {},
   "outputs": [
    {
     "name": "stdout",
     "output_type": "stream",
     "text": [
      "Lorem ipsum dolor sit amet,\n",
      "consectetur adipiscing elit,\n",
      "sed do eiusmod tempor incididunt\n",
      "ut labore et dolore magna aliqua.\n"
     ]
    }
   ],
   "source": [
    "a = \"\"\"Lorem ipsum dolor sit amet,\n",
    "consectetur adipiscing elit,\n",
    "sed do eiusmod tempor incididunt\n",
    "ut labore et dolore magna aliqua.\"\"\"\n",
    "print(a)\n"
   ]
  },
  {
   "cell_type": "code",
   "execution_count": 60,
   "metadata": {},
   "outputs": [
    {
     "name": "stdout",
     "output_type": "stream",
     "text": [
      "orl\n"
     ]
    }
   ],
   "source": [
    "# Get the characters:\n",
    "\n",
    "#From: \"o\" in \"World!\" (position -5)\n",
    "\n",
    "#To, but not included: \"d\" in \"World!\" (position -2):\n",
    "\n",
    "b = \"Hello, World!\"\n",
    "print(b[-5:-2])"
   ]
  },
  {
   "cell_type": "code",
   "execution_count": null,
   "metadata": {},
   "outputs": [],
   "source": []
  }
 ],
 "metadata": {
  "kernelspec": {
   "display_name": "Python 3",
   "language": "python",
   "name": "python3"
  },
  "language_info": {
   "codemirror_mode": {
    "name": "ipython",
    "version": 3
   },
   "file_extension": ".py",
   "mimetype": "text/x-python",
   "name": "python",
   "nbconvert_exporter": "python",
   "pygments_lexer": "ipython3",
   "version": "3.12.1"
  }
 },
 "nbformat": 4,
 "nbformat_minor": 2
}
