{
 "cells": [
  {
   "cell_type": "markdown",
   "metadata": {},
   "source": [
    "# Object oriented programming\n",
    "# Creating and instantiating a class\n",
    " Classes are also known as blueprints\n",
    " Class stages incluse - \n",
    " * The first stage is class definition -  here you write the blueprint to be used when called.\n",
    " * The second stage is Instantiation - Process of creating an object from the class definition.\n",
    "\n",
    " After an object is instantiated it is known as an instance.\n",
    " You may have multiple instances from a single class definition."
   ]
  },
  {
   "cell_type": "markdown",
   "metadata": {},
   "source": [
    "# Creating a class\n",
    "Use the keyword class then write the attaributes and methods"
   ]
  },
  {
   "cell_type": "code",
   "execution_count": 2,
   "metadata": {},
   "outputs": [
    {
     "name": "stdout",
     "output_type": "stream",
     "text": [
      "99265466315\n",
      "99265444493\n"
     ]
    }
   ],
   "source": [
    "# instantiating an object from a class\n",
    "class Car():     # Parens are optional here\n",
    "    pass\n",
    "ford = Car()    # Creates an instance of the car class and stpres into the variable ford\n",
    "subaru = Car()   # Creates another object from car class\n",
    "print(hash(ford))  \n",
    "print(hash(subaru))  # hash outputs a numerical representation of the location in memory for the variable\n"
   ]
  },
  {
   "cell_type": "code",
   "execution_count": 3,
   "metadata": {},
   "outputs": [
    {
     "name": "stdout",
     "output_type": "stream",
     "text": [
      "Lion\n",
      "Tiger\n"
     ]
    }
   ],
   "source": [
    "class Animals:\n",
    "    def __init__(self, name):\n",
    "        self.name = name\n",
    "\n",
    "# Creating instances of the Animals class\n",
    "lion = Animals(\"Lion\")\n",
    "tiger = Animals(\"Tiger\")\n",
    "\n",
    "print(lion.name)  # Output: Lion\n",
    "print(tiger.name)  # Output: Tiger\n",
    "\n"
   ]
  },
  {
   "cell_type": "markdown",
   "metadata": {},
   "source": [
    "# Attributes\n",
    "They are variables defined within a class.\n",
    "It is how we store personal information for each object instance. eg for a car an attribute could be the color,number of wheels ,number of seats etc\n",
    "\n",
    "we declare attributes with a name and a value.However , they are declared inside of the class.\n",
    "\n",
    "They are only available within the classes they are defined..\n",
    "\n",
    "So to access an attribute you must create an instance."
   ]
  },
  {
   "cell_type": "code",
   "execution_count": 4,
   "metadata": {},
   "outputs": [
    {
     "name": "stdout",
     "output_type": "stream",
     "text": [
      "red\n"
     ]
    }
   ],
   "source": [
    "# how to define a class attribute\n",
    "class Car():\n",
    "    sound = \"beep\"   # all car objects will have this sound attribute and it's value\n",
    "    color = \"red\"    # all car objects will have this attribute and it's value\n",
    "    \n",
    "ford = Car()\n",
    "print(ford.color)    # known as 'dot syntax"
   ]
  },
  {
   "cell_type": "markdown",
   "metadata": {},
   "source": [
    "# Changing an instance attributes\n",
    "You use the dot syntax ton change an attribute"
   ]
  },
  {
   "cell_type": "code",
   "execution_count": 8,
   "metadata": {},
   "outputs": [
    {
     "name": "stdout",
     "output_type": "stream",
     "text": [
      "beep\n",
      "honk\n",
      "red\n",
      "beep\n",
      "blue\n"
     ]
    }
   ],
   "source": [
    "# changing the value of an attribute \n",
    "class Car():\n",
    "    sound =\"beep\"\n",
    "    color = \"red\"\n",
    "ford = Car()\n",
    "print(ford.sound)  # will output 'beep'\n",
    "ford.sound = \"honk\" # From now on the vcalue of fords sound is honk, this does not affect other instances.\n",
    "print(ford.sound)\n",
    "subaru = Car()\n",
    "print(subaru.color)\n",
    "print(subaru.sound)\n",
    "subaru.color = \"blue\"\n",
    "print(subaru.color)"
   ]
  },
  {
   "cell_type": "markdown",
   "metadata": {},
   "source": [
    "# Using the _init_() method\n",
    "Use to intantiate an object with specific properties.\n",
    "Whenever an instance is created the init method is called immediately.\n",
    "You can use this method to instantiate objects with different attribute values upon creation.\n",
    "It also includes the \"self\" keyword."
   ]
  },
  {
   "cell_type": "code",
   "execution_count": 10,
   "metadata": {},
   "outputs": [
    {
     "name": "stdout",
     "output_type": "stream",
     "text": [
      "blue\n"
     ]
    }
   ],
   "source": [
    "# using the init method to give instances personalized attributes upon creation\n",
    "class Car():\n",
    "    def __init__(self,color):\n",
    "        self.color = color   # sets the attribute color to the value passed in\n",
    "\n",
    "ford = Car(\"blue\")  # istantiating the Car class with the color blue\n",
    "print(ford.color)"
   ]
  },
  {
   "cell_type": "markdown",
   "metadata": {},
   "source": [
    "# The \"Self\" keyword\n",
    "It is a reference to the current instance of the class and is used to access variables and methods associated with that instance."
   ]
  },
  {
   "cell_type": "code",
   "execution_count": 12,
   "metadata": {},
   "outputs": [
    {
     "name": "stdout",
     "output_type": "stream",
     "text": [
      "Blue 2019\n",
      "Red 2018\n"
     ]
    }
   ],
   "source": [
    "# Instantiating Multiple objects with __init__()\n",
    "\n",
    "# Defining different values for multiple instances\n",
    "class Car():\n",
    "    def __init__(self,color,year):  # sets the attributed color to the value passed in\n",
    "        self.color = color\n",
    "        self.year = year\n",
    "\n",
    "ford = Car(\"Blue\",2019)  # Create a car object with the color blue and year 2016\n",
    "subaru = Car(\"Red\",2018)  # Create a car object with the color red and year 2018\n",
    "\n",
    "print(ford.color,ford.year)\n",
    "print(subaru.color,subaru.year)"
   ]
  },
  {
   "cell_type": "markdown",
   "metadata": {},
   "source": [
    "# Global Attributes vs Instance Attributes\n",
    "* Global attributes can be referenced by the class directly and all its instances.\n",
    "\n",
    "* Instance attributes (which are defined within the init method) can only be accessed by the class instances.\n",
    "\n",
    "* If an attributed is declared inside of a class, but nit within the init method ,then it's known as a global attribute.\n",
    "\n",
    "* Any attributes declared within the init method using the self keyword are instance attributes"
   ]
  },
  {
<<<<<<< HEAD
   "cell_type": "markdown",
   "metadata": {},
   "source": [
    "# Exercise\n",
    "<p>\n",
    "1. <b>Dogs:</b> Create a Dog class that has one global attribute and two instance level attributes. The global attribute should be \"species\" with a value of \"Canine\". The two instance attributes should be \"name\" and \"breed\". Then instantiate two dog objects, a Husky named Sammi, and a Chocolate Lab named Casey.\n",
    "</p>"
   ]
  },
  {
   "cell_type": "code",
   "execution_count": 3,
   "metadata": {},
   "outputs": [
    {
     "data": {
      "text/plain": [
       "'Casey'"
      ]
     },
     "execution_count": 3,
     "metadata": {},
     "output_type": "execute_result"
    }
   ],
   "source": [
    "class Dog():\n",
    "    species = \"Canine\"\n",
    "\n",
    "    def __init__(self,name,breed):\n",
    "        self.name = name\n",
    "        self.breed = breed\n",
    "\n",
    "dog1 = Dog('sammi','Husky')\n",
    "dog2 = Dog('Casey','Chocolate Lab')\n",
    "\n",
    "dog2.name"
   ]
  },
  {
   "cell_type": "markdown",
   "metadata": {},
   "source": [
    "# Methods\n",
    "They are functions within classes.\n",
    "\n",
    "# Defining and calling a method\n"
   ]
  },
  {
   "cell_type": "code",
   "execution_count": 4,
   "metadata": {},
   "outputs": [
    {
     "name": "stdout",
     "output_type": "stream",
     "text": [
      "bark\n"
     ]
    }
   ],
   "source": [
    "class Dog():\n",
    "    def makeSound(self):    # make sound is a method\n",
    "        print(\"bark\")\n",
    "\n",
    "sam = Dog()\n",
    "sam.makeSound()"
   ]
  },
  {
   "cell_type": "markdown",
   "metadata": {},
   "source": [
    "# Accessing Class Attributes in methods\n",
    "You use the self keyword to access the attribute.\n"
   ]
  },
  {
   "cell_type": "code",
   "execution_count": 1,
   "metadata": {},
   "outputs": [
    {
     "name": "stdout",
     "output_type": "stream",
     "text": [
      "bark\n"
     ]
    }
   ],
   "source": [
    "# using the self keyword to access attributes within class methods\n",
    "class Dog():\n",
    "    sound = \"bark\"\n",
    "    def makeSound(self):\n",
    "        print(self.sound)   # self required to access attributes defined in the class\n",
    "\n",
    "\n",
    "sam = Dog()\n",
    "sam.makeSound()"
   ]
  },
  {
   "cell_type": "code",
   "execution_count": 3,
   "metadata": {},
   "outputs": [
    {
     "name": "stdout",
     "output_type": "stream",
     "text": [
      "7\n"
     ]
    }
   ],
   "source": [
    "str = \"LogicalPython\"\n",
    "print(str.index(\"Python\"))"
   ]
  },
  {
   "cell_type": "markdown",
   "metadata": {},
   "source": [
    "# Static methods \n",
    "They are methods accessible through the class itself rather than an instance"
   ]
  },
  {
   "cell_type": "code",
   "execution_count": 17,
   "metadata": {},
   "outputs": [
    {
     "name": "stdout",
     "output_type": "stream",
     "text": [
      "I am a dog.\n",
      "bark\n"
     ]
    }
   ],
   "source": [
    "# understanding which methods are accessible via the cl;ass itself and class instances\n",
    "class Dog():\n",
    "    sound =\"bark\"\n",
    "    def makeSound(self):\n",
    "        print(self.sound)\n",
    "    \n",
    "    def printInfo():\n",
    "        print(\"I am a dog.\")\n",
    "\n",
    "Dog.printInfo()  # produces an error ,self is in reference to instances only\n",
    "\n",
    "sam = Dog()\n",
    "sam.makeSound()  #able to access,self can reference the instanceof sam\n",
    "\n",
    "\n",
    "\n",
    "\n"
   ]
  },
  {
   "cell_type": "markdown",
   "metadata": {},
   "source": [
    "# Getters and setters\n",
    "They are methods that you create to redeclare attribute values and return attribute values"
   ]
  },
  {
   "cell_type": "code",
   "execution_count": 22,
   "metadata": {},
   "outputs": [
    {
     "name": "stdout",
     "output_type": "stream",
     "text": [
      "Sammi\n",
      "johnny\n"
     ]
    }
   ],
   "source": [
    "# Using methods to set or return attribute values,proper programming practice\n",
    "class Dog():\n",
    "    name = ' '  # would normally use init method to declare,this is for testing purposes\n",
    "\n",
    "    def setName(self,new_name):\n",
    "        self.name = new_name   # declares the new value for the name attribute\n",
    "\n",
    "    def getName(self):\n",
    "        return self.name   # returns the value of the name attribute\n",
    "    \n",
    "sam = Dog()\n",
    "sam.setName(\"Sammi\")\n",
    "print(sam.getName())\n",
    "\n",
    "john = Dog()\n",
    "john.setName(\"johnny\")\n",
    "print(john.getName())   # prints the returned value for self.name\n"
   ]
  },
  {
   "cell_type": "markdown",
   "metadata": {},
   "source": [
    "# Inheritance\n",
    "Subclass inherits all the attributes and methods within the superclass"
   ]
  },
  {
   "cell_type": "code",
   "execution_count": 25,
   "metadata": {},
   "outputs": [
    {
     "name": "stdout",
     "output_type": "stream",
     "text": [
      "roar\n"
     ]
    }
   ],
   "source": [
    "# Inheriting a class and accessing the inherited method\n",
    "class Animal():\n",
    "    def makeSound(self):\n",
    "        print(\"roar\")\n",
    "\n",
    "\n",
    "class Dog(Animal):\n",
    "    species = \"Canine\"\n",
    "\n",
    "sam = Dog()\n",
    "sam.makeSound()   #Accessing through inheritance\n",
    "#lion = Animal()   # Not accessible , inheritance doesnot work backwards\n",
    "\n",
    "#"
   ]
  },
  {
   "cell_type": "markdown",
   "metadata": {},
   "source": [
    "# Using the super() method"
   ]
  },
  {
   "cell_type": "code",
   "execution_count": 26,
   "metadata": {},
   "outputs": [
    {
     "name": "stdout",
     "output_type": "stream",
     "text": [
      "Canine\n"
     ]
    }
   ],
   "source": [
    "# using the super() method to declare inherited attributes\n",
    "class Animal():\n",
    "    def __init__(self,species):\n",
    "        self.species = species\n",
    "class Dog(Animal):\n",
    "    def __init__(self,species,name):\n",
    "        self.name = name\n",
    "        super().__init__(species)  # using super to declare the species attribute defined in Animal\n",
    "\n",
    "sam = Dog(\"Canine\",\"Sammi\")\n",
    "print(sam.species)\n"
   ]
  },
  {
=======
>>>>>>> 88157e6150253016d1c7d8b0ff1584915de5910c
   "cell_type": "code",
   "execution_count": null,
   "metadata": {},
   "outputs": [],
   "source": []
  }
 ],
 "metadata": {
  "kernelspec": {
   "display_name": "Python 3",
   "language": "python",
   "name": "python3"
  },
  "language_info": {
   "codemirror_mode": {
    "name": "ipython",
    "version": 3
   },
   "file_extension": ".py",
   "mimetype": "text/x-python",
   "name": "python",
   "nbconvert_exporter": "python",
   "pygments_lexer": "ipython3",
   "version": "3.12.1"
  }
 },
 "nbformat": 4,
 "nbformat_minor": 2
}
