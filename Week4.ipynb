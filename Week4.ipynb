{
 "cells": [
  {
   "cell_type": "markdown",
   "metadata": {},
   "source": [
    "# Data collections and files\n",
    "# Collections -\n",
    "Are used to store collections of data.\n",
    "They include Lists, Tuples ,Sets and Dictionary\n",
    "\n",
    "# Lists\n",
    "\n",
    "Declared in square brackets ,mutable ,stores duplicate values and elements can be accessed using indexes.Declared in square brackets [].\n",
    "\n",
    "# Tuples\n",
    "Ordered and immutable . Have duplicate elements.We use parentheses() to store itmes of a tuple.  eg product = (\"box\", 3).\n",
    "We use the index number to access tuple items.\n",
    "\n",
    "# Set \n",
    "unordered collection of unique itmes and declared in curly {}bracktes.Not index.no duplicate entries. \n",
    "\n",
    "# Dictionary\n",
    "unOrdered collection of items.\n",
    "Key-value pairs ,mutable,use curly brackets, collection of unordered data.Key is the word and values are the definition.\n",
    "keys can only be declared with strings and nunbers.Separate key value pairs with colons"
   ]
  },
  {
   "cell_type": "code",
   "execution_count": 12,
   "metadata": {},
   "outputs": [
    {
     "name": "stdout",
     "output_type": "stream",
     "text": [
      "{'name': 'Morty', 'age': 20, 'school': 'susan', 'address': 20}\n"
     ]
    }
   ],
   "source": [
    "# Declaring a dictionary variable\n",
    "empty = {}   # empty dictionary\n",
    "person = { \"name\": \"john smith\"}    # dictionary with one key/value pair\n",
    "customer = {\n",
    "    \"name\": 'Morty',\n",
    "    \"age\": 20,\n",
    "    \"school\": 'susan',\n",
    "    \"address\": 20\n",
    "\n",
    "}\n",
    "print(customer)"
   ]
  },
  {
   "cell_type": "markdown",
   "metadata": {},
   "source": [
    "# Using Get Method\n",
    "get()  can be used to retrieve information .Does'nt throw a key error instead returns \"None\"\n"
   ]
  },
  {
   "cell_type": "code",
   "execution_count": 14,
   "metadata": {},
   "outputs": [
    {
     "name": "stdout",
     "output_type": "stream",
     "text": [
      "John\n",
      "None\n"
     ]
    }
   ],
   "source": [
    "# using the get method to access dictionary information\n",
    "person = {\"name\": \"John\"}\n",
    "print(person.get(\"name\"))     # retrieves value of name key as before\n",
    "print(person.get(\"age\"))  # get is secureway to retrieve info\n"
   ]
  },
  {
   "cell_type": "markdown",
   "metadata": {},
   "source": [
    "# Dictionaries with Lists\n",
    "Lists are indexed and dictionaries use keys\n",
    "Access the key  first the the index\n",
    "\n"
   ]
  },
  {
   "cell_type": "code",
   "execution_count": 16,
   "metadata": {},
   "outputs": [
    {
     "name": "stdout",
     "output_type": "stream",
     "text": [
      "baseball\n"
     ]
    }
   ],
   "source": [
    "# Storing a list within a dictionary and accessing it \n",
    "data = {\"Sports\": [\"baseball\",\"football\",\"Hockey\",\"Soccer\"]}\n",
    "print(data[\"Sports\"][0])     # first access the key , then the index"
   ]
  },
  {
   "cell_type": "markdown",
   "metadata": {},
   "source": [
    "# Lists with Dictionaries\n",
    "First access the dictionary with index first then the key value pairs."
   ]
  },
  {
   "cell_type": "code",
   "execution_count": 17,
   "metadata": {},
   "outputs": [
    {
     "name": "stdout",
     "output_type": "stream",
     "text": [
      "{'name': 'Susan'}\n",
      "Susan\n"
     ]
    }
   ],
   "source": [
    "# Storing a dictionary within a list and accessing it\n",
    "data = [\"John\",\"Dennis\",{\"name\": \"Susan\"}]\n",
    "print(data[2])      # the dictionary is in index  2\n",
    "print(data[2][\"name\"])     # first access the index , then access the key.\n"
   ]
  },
  {
   "cell_type": "markdown",
   "metadata": {},
   "source": [
    "# Dictionaries with dictionaries\n"
   ]
  },
  {
   "cell_type": "code",
   "execution_count": 19,
   "metadata": {},
   "outputs": [
    {
     "name": "stdout",
     "output_type": "stream",
     "text": [
      "{'2018': 108, '2017': 93}\n",
      "108\n"
     ]
    }
   ],
   "source": [
    "# storing a dictionary within a dictionary and accessing it\n",
    "data = {\n",
    "    \"team\": \"Boston Red Sox\",\n",
    "    \"Wins\": {\"2018\":108, \"2017\":93}\n",
    "}\n",
    "print(data[\"Wins\"])     # will output the dictionary within the wins key\n",
    "print(data[\"Wins\"][\"2018\"])   # first access the wins key , then the next key\n"
   ]
  },
  {
   "cell_type": "markdown",
   "metadata": {},
   "source": [
    "# Exercise\n",
    "1. User input: Ask the user for their name and age and then create a dic with those key value pairs .output the dictionary one created."
   ]
  },
  {
   "cell_type": "code",
   "execution_count": 2,
   "metadata": {},
   "outputs": [
    {
     "name": "stdout",
     "output_type": "stream",
     "text": [
      "{'name': 'susan', 'age': '30'}\n"
     ]
    }
   ],
   "source": [
    "name = input('What is your name? ')\n",
    "age = input('What is your age? ')\n",
    "\n",
    "person = { 'name' : name, 'age' : age }\n",
    "\n",
    "print(person)"
   ]
  },
  {
   "cell_type": "code",
   "execution_count": 1,
   "metadata": {},
   "outputs": [
    {
     "name": "stdout",
     "output_type": "stream",
     "text": [
      "User Information:\n",
      "{'name': 'susan', 'age': '40'}\n"
     ]
    }
   ],
   "source": [
    "# Get user input for name and age\n",
    "user_name = input(\"Enter your name: \")\n",
    "user_age = input(\"Enter your age: \")\n",
    "\n",
    "# Create a dictionary with user information\n",
    "user_info = {\n",
    "    'name': user_name,\n",
    "    'age': user_age\n",
    "}\n",
    "\n",
    "# Output the created dictionary\n",
    "print(\"User Information:\")\n",
    "print(user_info)\n"
   ]
  },
  {
   "cell_type": "markdown",
   "metadata": {},
   "source": [
    "# Working with dictionaries\n",
    "Add ,manipulate data , removing key-value pairs and iteratin thru dictionaries"
   ]
  },
  {
   "cell_type": "code",
   "execution_count": 3,
   "metadata": {},
   "outputs": [
    {
     "name": "stdout",
     "output_type": "stream",
     "text": [
      "Year: 2018 \t Color:Blue\n"
     ]
    }
   ],
   "source": [
    "# adding new key/value pairs to a dictionary\n",
    "car = {\"Year\": 2018}\n",
    "car[\"color\"] = \"Blue\"\n",
    "print(\"Year: {} \\t Color:{}\".format(car[\"Year\"],car[\"color\"]))\n"
   ]
  },
  {
   "cell_type": "markdown",
   "metadata": {},
   "source": [
    "# Changing information\n"
   ]
  },
  {
   "cell_type": "code",
   "execution_count": 4,
   "metadata": {},
   "outputs": [
    {
     "name": "stdout",
     "output_type": "stream",
     "text": [
      "year: 2018 \t Color: Red\n"
     ]
    }
   ],
   "source": [
    "# Updating a value for key/value pair that already exists\n",
    "car ={\"year\": 2018, \"color\":\"Blue\"}\n",
    "car[\"color\"]=\"Red\"\n",
    "print(\"year: {} \\t Color: {}\".format(car[\"year\"],car[\"color\"]))"
   ]
  },
  {
   "cell_type": "code",
   "execution_count": 5,
   "metadata": {},
   "outputs": [
    {
     "name": "stdout",
     "output_type": "stream",
     "text": [
      "That key does not exist\n"
     ]
    }
   ],
   "source": [
    "# Deleting a key/value pair from a dictionary\n",
    "car = {\"Year\": 2018}\n",
    "try:\n",
    "    del car[\"year\"]\n",
    "    print(car)\n",
    "except:\n",
    "    print(\"That key does not exist\")    # use try/excerpt to avoid crashing the program\n",
    "    "
   ]
  },
  {
   "cell_type": "markdown",
   "metadata": {},
   "source": [
    "# Looping a Dictionary\n",
    "There are three methods of iterating\n",
    "1. iterating over both the keys and values together\n",
    "2. only keys \n",
    "3. only values"
   ]
  },
  {
   "cell_type": "code",
   "execution_count": 6,
   "metadata": {},
   "outputs": [
    {
     "name": "stdout",
     "output_type": "stream",
     "text": [
      "name\n",
      "Josh\n",
      "age\n",
      "26\n"
     ]
    }
   ],
   "source": [
    "# Looping only keys use .keys() method\n",
    "person = {\"name\":\"Josh\",\"age\": 26}\n",
    "for key in person.keys():\n",
    "    print(key)\n",
    "    print(person[key])      # will output the values at the current key"
   ]
  },
  {
   "cell_type": "code",
   "execution_count": 7,
   "metadata": {},
   "outputs": [
    {
     "name": "stdout",
     "output_type": "stream",
     "text": [
      "John\n",
      "26\n"
     ]
    }
   ],
   "source": [
    "# looping over a dic via the values\n",
    "person = {\"name\":\"John\",\"age\":26}\n",
    "for value in person.values():\n",
    "    print(value)"
   ]
  },
  {
   "cell_type": "code",
   "execution_count": 8,
   "metadata": {},
   "outputs": [
    {
     "name": "stdout",
     "output_type": "stream",
     "text": [
      "name:John\n",
      "age:26\n"
     ]
    }
   ],
   "source": [
    "# Looping over a dic via the key/value pair\n",
    "person ={\"name\":\"John\",\"age\":26}\n",
    "for key, value in person.items():\n",
    "    print(\"{}:{}\".format(key,value))"
   ]
  },
  {
   "cell_type": "markdown",
   "metadata": {},
   "source": [
    "# Exercise \n",
    "user input: Declare an empty dictionary.Ask the user for their name,address, and number.Add that information to the dictionary and iterate over it to show the user."
   ]
  },
  {
   "cell_type": "code",
   "execution_count": 11,
   "metadata": {},
   "outputs": [
    {
     "name": "stdout",
     "output_type": "stream",
     "text": [
      "User Information:\n",
      "user_name:susan\n",
      "user_age:20\n",
      "user_number:0712345678\n"
     ]
    }
   ],
   "source": [
    "# Declare an empty dictionary\n",
    "details = {}\n",
    "# Ask the user fro their name, address and number\n",
    "user_name = input(\"What is your name?\")\n",
    "user_age = input(\"What is your age?\")\n",
    "user_number = input(\"What is your number?\")\n",
    "\n",
    "# Add user information to the dictionary\n",
    "\n",
    "details = {\n",
    "    \"user_name\": user_name,\n",
    "    \"user_age\": user_age,\n",
    "    \"user_number\": user_number\n",
    "}\n",
    "\n",
    "# Iterate over the dictionary and show user information\n",
    "print(\"User Information:\")\n",
    "for key, value in details.items():\n",
    "    print(\"{}:{}\".format(key,value))"
   ]
  },
  {
   "cell_type": "markdown",
   "metadata": {},
   "source": [
    "# Tuples  , sets ,Frozensets\n",
    "# Tuples -\n",
    "are like lists only that they are immutable.Are declared with optional parenthesis.You use a comma to separate two or more items."
   ]
  },
  {
   "cell_type": "code",
   "execution_count": 17,
   "metadata": {},
   "outputs": [
    {
     "name": "stdout",
     "output_type": "stream",
     "text": [
      "<class 'tuple'> <class 'tuple'>\n"
     ]
    }
   ],
   "source": [
    "# declaring a tuple\n",
    "t1 = (\"hello\",2,\"hello\")    # with parens\n",
    "t2 = True, 1        # without parens\n",
    "print(type(t1),type(t2))    # both are tuples\n",
    "#t1[0] =1    # will crash tuples are immutable once declared"
   ]
  },
  {
   "cell_type": "markdown",
   "metadata": {},
   "source": [
    "# Sets\n",
    "Share the same characteristics of lists and dictionaries.\n",
    "Contains unique values like key values in dictionary.\n",
    "They are unordered collection.can not be accessed by index rather by the value itself like dictionary keys.\n",
    "\n",
    "# Declaring a set\n",
    "can be declared by using the keyword \"set\" followed by parenthesis and enclosing square brackets. secodnly can be declared using curly brackets"
   ]
  },
  {
   "cell_type": "code",
   "execution_count": 16,
   "metadata": {},
   "outputs": [
    {
     "name": "stdout",
     "output_type": "stream",
     "text": [
      "<class 'set'> <class 'set'>\n",
      "{2, 3, 4, 5}\n"
     ]
    }
   ],
   "source": [
    "# Declaring a set\n",
    "s1 = set([1, 2, 3, 4, 5])  # uses the set keyword and square brackets\n",
    "s2 = {1, 2, 3, 4, 5}  # uses curly braces like a dictionary\n",
    "\n",
    "print(type(s1), type(s2))\n",
    "\n",
    "s1.add(5)  # using the add method to add new items to a set\n",
    "s1.remove(1)  # using the remove method to get rid of the value 1\n",
    "print(s1)\n"
   ]
  },
  {
   "cell_type": "markdown",
   "metadata": {},
   "source": [
    "# Frozensets\n",
    "It's a combination of a set and a tuple.\n",
    "They are immutable, unordered , and unique. .They are perfect for sensitive information that you wouldn't want to alter.They can be iterated over but not indexed."
   ]
  },
  {
   "cell_type": "code",
   "execution_count": 18,
   "metadata": {},
   "outputs": [
    {
     "name": "stdout",
     "output_type": "stream",
     "text": [
      "<class 'frozenset'>\n"
     ]
    }
   ],
   "source": [
    "# Declaring a frozenset\n",
    "fset = frozenset([1,2,3,4])\n",
    "print(type(fset))"
   ]
  },
  {
   "cell_type": "markdown",
   "metadata": {},
   "source": [
    "# Exercise"
   ]
  },
  {
   "cell_type": "markdown",
   "metadata": {},
   "source": [
    "<p>\n",
    "1. <b>User Input:</b> Ask the user to input as many bank account numbers as they'd like and store them within a list initially. Once the user is done entering information, convert the list to a frozenset and print it out.\n",
    "</p>"
   ]
  },
  {
   "cell_type": "code",
   "execution_count": 19,
   "metadata": {},
   "outputs": [
    {
     "name": "stdout",
     "output_type": "stream",
     "text": [
      "frozenset({56355, 234, 3566, 3445, 43543, 345, 123})\n"
     ]
    }
   ],
   "source": [
    "# declare an empty list\n",
    "values = []\n",
    "\n",
    "# declare an active variable to keep the while loop running until the user opts to quit\n",
    "active = True\n",
    "\n",
    "# initiate the loop\n",
    "while active:\n",
    "    number = int(input('Enter a number or type -1 to exit the program'))\n",
    "\n",
    "    if number == -1:\n",
    "        active = False\n",
    "    else:\n",
    "        values.append(number)\n",
    "values = frozenset(values)\n",
    "\n",
    "print(values)"
   ]
  },
  {
   "cell_type": "code",
   "execution_count": 21,
   "metadata": {},
   "outputs": [
    {
     "data": {
      "text/plain": [
       "[10, 3, 4, 7]"
      ]
     },
     "execution_count": 21,
     "metadata": {},
     "output_type": "execute_result"
    }
   ],
   "source": [
    "# convert in to a set\n",
    "nums = [3,4,3,7,10]\n",
    "nums = list(set(nums))\n",
    "nums"
   ]
  },
  {
   "cell_type": "markdown",
   "metadata": {},
   "source": [
    "# Reading and writing files\n",
    "Python has open() function that allows us to create and modify files.This file accepts two parameters the file name and the mode"
   ]
  },
  {
   "cell_type": "code",
   "execution_count": 1,
   "metadata": {},
   "outputs": [
    {
     "name": "stdout",
     "output_type": "stream",
     "text": [
      "this is a test\n"
     ]
    }
   ],
   "source": [
    "# opening /creating and writing to a text file\n",
    "f = open(\"test.txt\",\"wt\")   # open file in writing and reading mode\n",
    "f.write(\"this is a test\")\n",
    "f.close()     # anytime you open a file you must always close the file\n",
    "# reading from a text file\n",
    "f = open(\"test.txt\",\"r\")\n",
    "data = f.read()\n",
    "f.close()\n",
    "print(data)\n",
    "\n"
   ]
  },
  {
   "cell_type": "markdown",
   "metadata": {},
   "source": [
    "# Writing to CSV Files\n",
    "Work with data by separating a comma between each cell.This is known as tabular data structure"
   ]
  },
  {
   "cell_type": "code",
   "execution_count": 3,
   "metadata": {},
   "outputs": [
    {
     "name": "stdout",
     "output_type": "stream",
     "text": [
      "Name,City\n",
      "Craig Lou,Taiwan\n",
      "\n"
     ]
    }
   ],
   "source": [
    "# opening /creating and writing to a csv file\n",
    "import csv\n",
    "with open(\"test.csv\",mode=\"w\",newline=\"\") as f:\n",
    "    writer=csv.writer(f,delimiter=\",\")\n",
    "    writer.writerow([\"Name\",\"City\"])\n",
    "    writer.writerow([\"Craig Lou\",\"Taiwan\"])\n",
    "# Reading and printing the content of the file\n",
    "with open(\"test.csv\",mode=\"r\") as f:\n",
    "    content =f.read()\n",
    "    print(content) "
   ]
  },
  {
   "cell_type": "markdown",
   "metadata": {},
   "source": [
    "# Reading to CSV files\n",
    "You set the mode to read"
   ]
  },
  {
   "cell_type": "code",
   "execution_count": 4,
   "metadata": {},
   "outputs": [
    {
     "name": "stdout",
     "output_type": "stream",
     "text": [
      "['Name', 'City']\n",
      "['Craig Lou', 'Taiwan']\n"
     ]
    }
   ],
   "source": [
    "# reading from csv files \n",
    "with open(\"test.csv\",mode=\"r\") as f:\n",
    "    reader=csv.reader(f,delimiter=\",\")\n",
    "    for row in reader:\n",
    "        print(row)"
   ]
  },
  {
   "cell_type": "markdown",
   "metadata": {},
   "source": [
    "# Files mode in python\n",
    "* r - This is the default mode.It opens the file for reading only.\n",
    "* w - Opens the file for writing.If it doesn't exist it creates one.\n",
    "* x - Creates a new file .If file exists,the opeartion fails.\n",
    "* a - open in append mode.If file doesn't exist,it creates one.\n",
    "* b - open in binary  mode\n",
    "* `+` - will open a file for reading and writing.Good for updating."
   ]
  },
  {
   "cell_type": "markdown",
   "metadata": {},
   "source": [
    "# Specialised collections data types \n",
    "1. namedtuple() - chainmap , deque\n",
    "2. counter - orderedDict  , defaultdict\n",
    "3. userDict -  userList ,  userString\n",
    "\n",
    "# namedtuple -\n",
    "Returns a tuple with a named value for each element in the tuple.\n"
   ]
  },
  {
   "cell_type": "code",
   "execution_count": 1,
   "metadata": {},
   "outputs": [
    {
     "name": "stdout",
     "output_type": "stream",
     "text": [
      "courses(name='data science', technology='python')\n"
     ]
    }
   ],
   "source": [
    "from collections import namedtuple\n",
    "a = namedtuple('courses','name,technology')\n",
    "s = a('data science','python')\n",
    "print(s)"
   ]
  },
  {
   "cell_type": "markdown",
   "metadata": {},
   "source": [
    "# deque\n",
    "Is an optimised list to perform insertion and deletion easily."
   ]
  },
  {
   "cell_type": "code",
   "execution_count": 5,
   "metadata": {},
   "outputs": [
    {
     "name": "stdout",
     "output_type": "stream",
     "text": [
      "deque(['s', 'u', 's', 'a', 'b'])\n",
      "deque(['s', 'u', 's', 'a', 'b', 'Python'])\n",
      "deque(['s', 'u', 's', 'a', 'b', 'Python'])\n"
     ]
    }
   ],
   "source": [
    "from collections import deque\n",
    "a = ['s','u','s','a','b']\n",
    "d = deque(a)\n",
    "print(d)\n",
    "d.append('Python')\n",
    "print(d)\n",
    "d.pop\n",
    "print(d)"
   ]
  },
  {
   "cell_type": "markdown",
   "metadata": {},
   "source": [
    "# Chainmap\n",
    "Is like class for creating a single view of multiple mappings."
   ]
  },
  {
   "cell_type": "code",
   "execution_count": 6,
   "metadata": {},
   "outputs": [
    {
     "name": "stdout",
     "output_type": "stream",
     "text": [
      "ChainMap({1: 'edureka', 2: 'python'}, {3: 'ML', 4: 'AI'})\n"
     ]
    }
   ],
   "source": [
    "from collections import ChainMap\n",
    "a = {1: 'edureka',2: 'python'}\n",
    "b = {3: 'ML', 4: 'AI'}\n",
    "al = ChainMap(a,b)\n",
    "print(al)"
   ]
  },
  {
   "cell_type": "markdown",
   "metadata": {},
   "source": [
    "# counter\n",
    "Is a dictionary subclass for counting hashable objects.\n"
   ]
  },
  {
   "cell_type": "code",
   "execution_count": 9,
   "metadata": {},
   "outputs": [
    {
     "name": "stdout",
     "output_type": "stream",
     "text": [
      "Counter({5: 4, 1: 2, 3: 2, 2: 1})\n"
     ]
    }
   ],
   "source": [
    "from collections import Counter\n",
    "\n",
    "a = [1,1,2,3,3,5,5,5,5,]\n",
    "c = Counter(a)\n",
    "print(c)"
   ]
  },
  {
   "cell_type": "markdown",
   "metadata": {},
   "source": [
    "# OrderedDict \n",
    "Is a dictionary subclass which remembers the order in which the entries were done."
   ]
  },
  {
   "cell_type": "markdown",
   "metadata": {},
   "source": [
    "# Defaultdict\n",
    "Is a dictionary subclass which calls a factory function to supply missing values.\n"
   ]
  },
  {
   "cell_type": "code",
   "execution_count": 2,
   "metadata": {},
   "outputs": [
    {
     "name": "stdout",
     "output_type": "stream",
     "text": [
      "0\n",
      "1\n",
      "2\n",
      "3\n",
      "4\n",
      "5\n"
     ]
    }
   ],
   "source": [
    "x = range(6)\n",
    "for i in x:\n",
    "    print(i)\n"
   ]
  },
  {
   "cell_type": "code",
   "execution_count": null,
   "metadata": {},
   "outputs": [],
   "source": []
  }
 ],
 "metadata": {
  "kernelspec": {
   "display_name": "Python 3",
   "language": "python",
   "name": "python3"
  },
  "language_info": {
   "codemirror_mode": {
    "name": "ipython",
    "version": 3
   },
   "file_extension": ".py",
   "mimetype": "text/x-python",
   "name": "python",
   "nbconvert_exporter": "python",
   "pygments_lexer": "ipython3",
   "version": "3.12.1"
  }
 },
 "nbformat": 4,
 "nbformat_minor": 2
}
