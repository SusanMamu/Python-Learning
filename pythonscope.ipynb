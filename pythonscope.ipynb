{
 "cells": [
  {
   "cell_type": "markdown",
   "metadata": {},
   "source": [
    "# Scope\n",
    "A variable is only available from inside the region it is created. \n",
    "\n",
    "# Local scope \n",
    "A variable  created inside a function belongs to the local scope and can only be used inside that function\n",
    "\n",
    "The local variable can be accessed froma function within the function.\n",
    "\n",
    "\n",
    "# Global scope\n",
    "A variable created in the main body of the python code is a global variab le and belongs to the global scope.\n",
    "\n",
    "They are availbale from within any scope , global and local.\n",
    "\n",
    "# Naming variables\n",
    "A variable with the same variable name inside and outside of a function, python treates them as two separate variables.\n",
    "\n",
    "- You can use the GLOBAL keyword in the local scope to make a variable global.\n",
    "\n"
   ]
  },
  {
   "cell_type": "code",
   "execution_count": 4,
   "metadata": {},
   "outputs": [
    {
     "name": "stdout",
     "output_type": "stream",
     "text": [
      "310\n",
      "300\n"
     ]
    }
   ],
   "source": [
    "x = 300  # global variable\n",
    "\n",
    "def myfunc():\n",
    "    y = 10    # local variable\n",
    "    print(x+y)\n",
    "\n",
    "\n",
    "myfunc()\n",
    "\n",
    "print(x)"
   ]
  },
  {
   "cell_type": "code",
   "execution_count": 6,
   "metadata": {},
   "outputs": [
    {
     "name": "stdout",
     "output_type": "stream",
     "text": [
      "200\n",
      "300\n"
     ]
    }
   ],
   "source": [
    "x = 300\n",
    "\n",
    "def myfunc():\n",
    "  x = 200\n",
    "  print(x)\n",
    "\n",
    "myfunc()\n",
    "\n",
    "print(x)"
   ]
  },
  {
   "cell_type": "code",
   "execution_count": null,
   "metadata": {},
   "outputs": [],
   "source": []
  }
 ],
 "metadata": {
  "kernelspec": {
   "display_name": "Python 3",
   "language": "python",
   "name": "python3"
  },
  "language_info": {
   "codemirror_mode": {
    "name": "ipython",
    "version": 3
   },
   "file_extension": ".py",
   "mimetype": "text/x-python",
   "name": "python",
   "nbconvert_exporter": "python",
   "pygments_lexer": "ipython3",
   "version": "3.12.1"
  }
 },
 "nbformat": 4,
 "nbformat_minor": 2
}
