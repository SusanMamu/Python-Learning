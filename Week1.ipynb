{
 "cells": [
  {
   "cell_type": "code",
   "execution_count": 36,
   "metadata": {},
   "outputs": [
    {
     "name": "stdout",
     "output_type": "stream",
     "text": [
      "Hi jjj\n",
      "dcdcdcdcdc likes dddddd\n"
     ]
    }
   ],
   "source": [
    "# defining variables\n",
    "\n",
    "name = 'John Smith'\n",
    "age = 20\n",
    "is_new = True\n",
    "\n",
    "# taking user input\n",
    "name = input(\"what's is your name ?\")\n",
    "print(\"Hi \"+ name)\n",
    "\n",
    "#exercise: ask two questions : person's name and favourite color then print a message like\"Mosh likes blue\"\n",
    "name = input(\"What's your name? \")\n",
    "colour = input(\"What's your favourite colour? \")\n",
    "print(name + \" likes \"  + colour)\n",
    "\n",
    "\n"
   ]
  },
  {
   "cell_type": "markdown",
   "metadata": {},
   "source": [
    "write a program that does:\n",
    "- prompts the user for their birth year (it will take the input in form of a string)\n",
    "- convert the string into an integer\n",
    "- use the converted value to compute the age of the user\n",
    "- display the user's age"
   ]
  },
  {
   "cell_type": "code",
   "execution_count": 37,
   "metadata": {},
   "outputs": [
    {
     "ename": "ValueError",
     "evalue": "invalid literal for int() with base 10: 'ijjn'",
     "output_type": "error",
     "traceback": [
      "\u001b[1;31m---------------------------------------------------------------------------\u001b[0m",
      "\u001b[1;31mValueError\u001b[0m                                Traceback (most recent call last)",
      "Cell \u001b[1;32mIn[37], line 5\u001b[0m\n\u001b[0;32m      2\u001b[0m birth_year \u001b[38;5;241m=\u001b[39m \u001b[38;5;28minput\u001b[39m(\u001b[38;5;124m\"\u001b[39m\u001b[38;5;124mBirth year\u001b[39m\u001b[38;5;124m\"\u001b[39m)\n\u001b[0;32m      4\u001b[0m \u001b[38;5;66;03m# convert to integer\u001b[39;00m\n\u001b[1;32m----> 5\u001b[0m birth_year \u001b[38;5;241m=\u001b[39m \u001b[38;5;28;43mint\u001b[39;49m\u001b[43m(\u001b[49m\u001b[43mbirth_year\u001b[49m\u001b[43m)\u001b[49m\n\u001b[0;32m      7\u001b[0m \u001b[38;5;66;03m# compute the age of the user\u001b[39;00m\n\u001b[0;32m      8\u001b[0m age \u001b[38;5;241m=\u001b[39m \u001b[38;5;241m2024\u001b[39m \u001b[38;5;241m-\u001b[39m birth_year\n",
      "\u001b[1;31mValueError\u001b[0m: invalid literal for int() with base 10: 'ijjn'"
     ]
    }
   ],
   "source": [
    "#ask year born from the user\n",
    "birth_year = input(\"Birth year\")\n",
    "\n",
    "# convert to integer\n",
    "birth_year = int(birth_year)\n",
    "\n",
    "# compute the age of the user\n",
    "age = 2024 - birth_year\n",
    "\n",
    "# display the age\n",
    "print(age)"
   ]
  },
  {
   "cell_type": "code",
   "execution_count": null,
   "metadata": {},
   "outputs": [
    {
     "data": {
      "text/plain": [
       "13"
      ]
     },
     "execution_count": 5,
     "metadata": {},
     "output_type": "execute_result"
    }
   ],
   "source": [
    "def f(value):\n",
    "    return value + 5\n",
    "\n",
    "x = 5\n",
    "\n",
    "f(8)\n"
   ]
  },
  {
   "cell_type": "markdown",
   "metadata": {},
   "source": [
    "Write a program that asks the user their weight(in pounds),convert it to kgs and print on the terminal"
   ]
  },
  {
   "cell_type": "code",
   "execution_count": null,
   "metadata": {},
   "outputs": [
    {
     "name": "stdout",
     "output_type": "stream",
     "text": [
      "4.5\n"
     ]
    }
   ],
   "source": [
    "weight_lbs =input ('Weight (lbs): ')\n",
    "weight_kg =int (weight_lbs) * 0.45\n",
    "print(weight_kg)\n"
   ]
  },
  {
   "cell_type": "markdown",
   "metadata": {},
   "source": [
    "Strings \n",
    "you can use double or single quotes\n",
    "formatted strings-use to dynamically generate some texts with your variables\n",
    "\n"
   ]
  },
  {
   "cell_type": "code",
   "execution_count": null,
   "metadata": {},
   "outputs": [
    {
     "name": "stdout",
     "output_type": "stream",
     "text": [
      "John [Smith]is a coder\n"
     ]
    }
   ],
   "source": [
    "first = 'John'\n",
    "last = 'Smith'\n",
    "message = first +' [' + last + ']' 'is a coder'\n",
    "print(message)"
   ]
  },
  {
   "cell_type": "markdown",
   "metadata": {},
   "source": [
    "String Methods\n",
    "lenth = print (len(course))- gives the length of characters in  the string.\n",
    "use dot operator when dealing with methods eg cnverting upper case to lower case\n",
    "\n"
   ]
  },
  {
   "cell_type": "code",
   "execution_count": null,
   "metadata": {},
   "outputs": [
    {
     "name": "stdout",
     "output_type": "stream",
     "text": [
      "PYTHON FOR BEGINNERS\n",
      "Python For Beginners\n",
      "4\n",
      "Python for Absolute beginners\n"
     ]
    }
   ],
   "source": [
    "#example\n",
    "course = 'Python for beginners'\n",
    "print(course.upper())\n",
    "print(course.title())\n",
    "#to find a sequence of characters\n",
    "print(course.find('o'))\n",
    "#replace\n",
    "print(course.replace('beginners', 'Absolute beginners'))\n",
    "#in operator\n",
    "#The in operator provides a convenient way to check for the existence of a value within a collection or sequence in Python.\n"
   ]
  },
  {
   "cell_type": "markdown",
   "metadata": {},
   "source": [
    "Arithmetic Operations\n",
    "addition\n",
    "subtraction\n",
    "multiplication\n",
    "modulus % reminder of the division\n",
    "exponent ** power eg 10**2\n",
    "augumented assignment operator +=\n",
    "\n"
   ]
  },
  {
   "cell_type": "code",
   "execution_count": null,
   "metadata": {},
   "outputs": [
    {
     "name": "stdout",
     "output_type": "stream",
     "text": [
      "20\n"
     ]
    }
   ],
   "source": [
    "x = 10\n",
    "x += 10\n",
    "print(x)"
   ]
  },
  {
   "cell_type": "markdown",
   "metadata": {},
   "source": [
    "if \n",
    "elif\n",
    "else \n",
    "write a program that does:\n",
    "Price of a house is $1M\n",
    "If buyer has a good credit,\n",
    "they need to put down 10%\n",
    "Otherwise\n",
    "they need to put down 20%\n",
    "print the down payment"
   ]
  },
  {
   "cell_type": "code",
   "execution_count": null,
   "metadata": {},
   "outputs": [],
   "source": []
  },
  {
   "cell_type": "code",
   "execution_count": null,
   "metadata": {},
   "outputs": [
    {
     "name": "stdout",
     "output_type": "stream",
     "text": [
      "Down payment: $100000.0\n"
     ]
    }
   ],
   "source": [
    "#price of the house\n",
    "house_price = 1000000 # $M\n",
    "\n",
    "#Buyer's credit status\n",
    "good_credit = True # change to false if the credit is not good.\n",
    "\n",
    "# calculate the down paymeny based on the credit status\n",
    "if good_credit:\n",
    "    down_payment_percentage = 0.1 * house_price# 10% forgood credit\n",
    "else:\n",
    "    down_payment_percentage = 0.20 * house_price# 20 % for not goof credit\n",
    "\n",
    "#Calculate the downpayment amount\n",
    "print(f\"Down payment: ${down_payment_percentage}\")"
   ]
  },
  {
   "cell_type": "code",
   "execution_count": null,
   "metadata": {},
   "outputs": [
    {
     "name": "stdout",
     "output_type": "stream",
     "text": [
      "Your are obase\n"
     ]
    }
   ],
   "source": [
    "weight = 90\n",
    "if weight <= 80:\n",
    "    print(\"Your age is okay.\")\n",
    "elif weight >= 80:\n",
    "    print(\"Your are obase\")\n",
    "\n",
    "else:\n",
    "    Print(\"work on your weight\")"
   ]
  },
  {
   "cell_type": "markdown",
   "metadata": {},
   "source": [
    "While loop\n",
    "while condition "
   ]
  },
  {
   "cell_type": "code",
   "execution_count": null,
   "metadata": {},
   "outputs": [],
   "source": []
  },
  {
   "cell_type": "markdown",
   "metadata": {},
   "source": [
    "# for loop used to iterate over a sequence (such as a list, tuple, string, or range) and execute a block of code for each item in the sequence\n",
    "syntax\n",
    "for variable in sequence"
   ]
  }
 ],
 "metadata": {
  "kernelspec": {
   "display_name": "Python 3",
   "language": "python",
   "name": "python3"
  },
  "language_info": {
   "codemirror_mode": {
    "name": "ipython",
    "version": 3
   },
   "file_extension": ".py",
   "mimetype": "text/x-python",
   "name": "python",
   "nbconvert_exporter": "python",
   "pygments_lexer": "ipython3",
   "version": "3.12.1"
  }
 },
 "nbformat": 4,
 "nbformat_minor": 2
}
