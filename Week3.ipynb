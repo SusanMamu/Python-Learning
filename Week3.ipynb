{
 "cells": [
  {
   "cell_type": "markdown",
   "metadata": {},
   "source": [
    "# Functions\n",
    "# Creating & calling functions\n",
    "A python is a block of code which only runs when it is called.\n",
    "You can pass data known as parameters in to a function and return data as a result.\n",
    "\n",
    "# Function syntax.\n",
    "Begin with keyword def    then name of the function  then paranthesis and  parameters inside then a colon \n",
    " eg  def print name(name):"
   ]
  },
  {
   "cell_type": "code",
   "execution_count": 1,
   "metadata": {},
   "outputs": [
    {
     "name": "stdout",
     "output_type": "stream",
     "text": [
      "Name: John SMith\n",
      "Age: 45\n",
      "Name: John SMith\n",
      "Age: 45\n"
     ]
    }
   ],
   "source": [
    "def printInfo():\n",
    "    print(\"Name: John SMith\")\n",
    "    print(\"Age: 45\")\n",
    "\n",
    "printInfo()   # calls the function to run\n",
    "printInfo()   # calls the function again\n",
    "\n"
   ]
  },
  {
   "cell_type": "markdown",
   "metadata": {},
   "source": [
    "# Function stages\n",
    "# Funtcion definition - \n",
    "define the name of the function , parameters it's supposed to accaept and what it's supposed to do in the block of code associated with it.\n",
    "\n",
    "eg def sayHello():\n",
    "\n",
    "# Function call\n",
    "This is where you run the code\n",
    "eg sayHello()\n",
    "\n"
   ]
  },
  {
   "cell_type": "markdown",
   "metadata": {},
   "source": [
    "# udf-user defined functions"
   ]
  },
  {
   "cell_type": "code",
   "execution_count": 2,
   "metadata": {},
   "outputs": [
    {
     "name": "stdout",
     "output_type": "stream",
     "text": [
      "90\n"
     ]
    }
   ],
   "source": [
    "def calc():\n",
    "    x,y =10,9\n",
    "    print(x*y)\n",
    "calc()"
   ]
  },
  {
   "cell_type": "markdown",
   "metadata": {},
   "source": [
    "# Exercise\n",
    "Print a function icalled myname and have it print your name when called"
   ]
  },
  {
   "cell_type": "code",
   "execution_count": 5,
   "metadata": {},
   "outputs": [
    {
     "name": "stdout",
     "output_type": "stream",
     "text": [
      "Susan\n"
     ]
    }
   ],
   "source": [
    "def myname():\n",
    "    print(\"Susan\")\n",
    "myname()\n",
    "    "
   ]
  },
  {
   "cell_type": "markdown",
   "metadata": {},
   "source": [
    "# Parameters\n",
    "They make our code modular.\n",
    "They are arbitrary variable name that yiu use to reference the value within the function block.\n",
    "eg def "
   ]
  },
  {
   "cell_type": "code",
   "execution_count": 8,
   "metadata": {},
   "outputs": [
    {
     "name": "stdout",
     "output_type": "stream",
     "text": [
      "Your name is: Susan Mamu\n",
      "Your name is: Amanda\n"
     ]
    }
   ],
   "source": [
    "# passing a single parameter into a function\n",
    "def printName(full_name):\n",
    "    print(\"Your name is: {}\".format(full_name))\n",
    "printName(\"Susan Mamu\")\n",
    "printName(\"Amanda\")"
   ]
  },
  {
   "cell_type": "markdown",
   "metadata": {},
   "source": [
    "# Passing a list\n"
   ]
  },
  {
   "cell_type": "code",
   "execution_count": 9,
   "metadata": {},
   "outputs": [
    {
     "name": "stdout",
     "output_type": "stream",
     "text": [
      "2\n",
      "4\n",
      "6\n",
      "8\n",
      "4\n",
      "8\n",
      "4\n",
      "4\n",
      "8\n",
      "6\n",
      "8\n",
      "10\n",
      "6\n",
      "10\n"
     ]
    }
   ],
   "source": [
    "# using a function to square all information\n",
    "numbers1 = [1,2,3,4,2,4,2]\n",
    "numbers2 = [2,4,3,4,5,3,5]\n",
    "def squares(nums):\n",
    "    for num in nums:\n",
    "        print(num*2)\n",
    "squares(numbers1)\n",
    "squares(numbers2)"
   ]
  },
  {
   "cell_type": "code",
   "execution_count": 10,
   "metadata": {},
   "outputs": [
    {
     "name": "stdout",
     "output_type": "stream",
     "text": [
      "2.5\n",
      "5\n"
     ]
    }
   ],
   "source": [
    "def addNums(num1,num2):\n",
    "    print(num2)\n",
    "    print(num1)\n",
    "addNums(5,num2 = 2.5)"
   ]
  },
  {
   "cell_type": "markdown",
   "metadata": {},
   "source": [
    "# *args\n",
    "allows you to make functions more modular.The magic it's the unary operator(*)\n",
    "\n"
   ]
  },
  {
   "cell_type": "markdown",
   "metadata": {},
   "source": [
    "# Exercise\n",
    "1. User input. Ask the user to input a wprd and pass that word in to a function that checks if the word starts with an uppercase.if it does output \"True\",\n",
    "otherwise \"false\""
   ]
  },
  {
   "cell_type": "code",
   "execution_count": 6,
   "metadata": {},
   "outputs": [
    {
     "name": "stdout",
     "output_type": "stream",
     "text": [
      "True\n"
     ]
    }
   ],
   "source": [
    "def checkUppercase(word):\n",
    "    if word[0] == word[0].upper():\n",
    "        print(True)\n",
    "    else:\n",
    "        print(False)\n",
    "        \n",
    "ans = input(\"Enter a word: \")\n",
    "\n",
    "checkUppercase(ans)\n"
   ]
  },
  {
   "cell_type": "markdown",
   "metadata": {},
   "source": [
    "# Return Statement\n",
    "It is used to send information jback to where the function call occurred.\n"
   ]
  },
  {
   "cell_type": "code",
   "execution_count": 7,
   "metadata": {},
   "outputs": [
    {
     "name": "stdout",
     "output_type": "stream",
     "text": [
      "10.0\n",
      "20\n"
     ]
    }
   ],
   "source": [
    "# using return keyword to return the sum of two numbers\n",
    "def addNums(num1 , num2):\n",
    "    return num1 + num2\n",
    "num = addNums(5.5,4.5)    #saves return value into num\n",
    "print(num)\n",
    "print(addNums(10,10))    # doesn't save return value"
   ]
  },
  {
   "cell_type": "markdown",
   "metadata": {},
   "source": []
  },
  {
   "cell_type": "markdown",
   "metadata": {},
   "source": [
    "# Ternary operator\n",
    "syntax\n",
    "result = true_value if condition else false_value\n",
    "\n",
    "# Scope\n",
    "global scope - is when you declare a variable to be accessible to an entire file or application.\n",
    "\n",
    "function scope is in reference to variables being declared and accessib;e only within funtions.Avariable declared inside of a fucntion cannot be accessed outside of the function as once the function terminates so do the variables declared within it."
   ]
  },
  {
   "cell_type": "markdown",
   "metadata": {},
   "source": []
  },
  {
   "cell_type": "markdown",
   "metadata": {},
   "source": []
  }
 ],
 "metadata": {
  "kernelspec": {
   "display_name": "Python 3",
   "language": "python",
   "name": "python3"
  },
  "language_info": {
   "codemirror_mode": {
    "name": "ipython",
    "version": 3
   },
   "file_extension": ".py",
   "mimetype": "text/x-python",
   "name": "python",
   "nbconvert_exporter": "python",
   "pygments_lexer": "ipython3",
   "version": "3.12.1"
  }
 },
 "nbformat": 4,
 "nbformat_minor": 2
}
