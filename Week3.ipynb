{
 "cells": [
  {
   "cell_type": "markdown",
   "metadata": {},
   "source": [
    "# Functions\n",
    "# Creating & calling functions\n",
    "A python is a block of code which only runs when it is called.\n",
    "You can pass data known as parameters in to a function and return data as a result.\n",
    "\n",
    "# Function syntax.\n",
    "Begin with keyword def    then name of the function  then paranthesis and  parameters inside then a colon \n",
    " eg  def print name(name):"
   ]
  },
  {
   "cell_type": "code",
   "execution_count": 1,
   "metadata": {},
   "outputs": [
    {
     "name": "stdout",
     "output_type": "stream",
     "text": [
      "Name: John SMith\n",
      "Age: 45\n",
      "Name: John SMith\n",
      "Age: 45\n"
     ]
    }
   ],
   "source": [
    "def printInfo():\n",
    "    print(\"Name: John SMith\")\n",
    "    print(\"Age: 45\")\n",
    "\n",
    "printInfo()   # calls the function to run\n",
    "printInfo()   # calls the function again\n",
    "\n"
   ]
  },
  {
   "cell_type": "markdown",
   "metadata": {},
   "source": [
    "# Function stages\n",
    "# Funtcion definition - \n",
    "define the name of the function , parameters it's supposed to accaept and what it's supposed to do in the block of code associated with it.\n",
    "\n",
    "eg def sayHello():\n",
    "\n",
    "# Function call\n",
    "This is where you run the code\n",
    "eg sayHello()\n",
    "\n"
   ]
  },
  {
   "cell_type": "markdown",
   "metadata": {},
   "source": [
    "# udf-user defined functions"
   ]
  },
  {
   "cell_type": "code",
   "execution_count": 2,
   "metadata": {},
   "outputs": [
    {
     "name": "stdout",
     "output_type": "stream",
     "text": [
      "90\n"
     ]
    }
   ],
   "source": [
    "def calc():\n",
    "    x,y =10,9\n",
    "    print(x*y)\n",
    "calc()"
   ]
  },
  {
   "cell_type": "markdown",
   "metadata": {},
   "source": [
    "# Exercise\n",
    "Print a function icalled myname and have it print your name when called"
   ]
  },
  {
   "cell_type": "code",
   "execution_count": 5,
   "metadata": {},
   "outputs": [
    {
     "name": "stdout",
     "output_type": "stream",
     "text": [
      "Susan\n"
     ]
    }
   ],
   "source": [
    "def myname():\n",
    "    print(\"Susan\")\n",
    "myname()\n",
    "    "
   ]
  },
  {
   "cell_type": "markdown",
   "metadata": {},
   "source": [
    "# Parameters\n",
    "They make our code modular.\n",
    "They are arbitrary variable name that yiu use to reference the value within the function block.\n",
    "eg def \n",
    "\n",
    "A parameter is the variable listed inside the parenthesis in the fucntion definition.\n",
    "\n",
    "An arguement is the value that is sent to the function when it is called.\n",
    "\n",
    "add * before the paraemeter if the number of arguements is unknown.\n",
    "\n",
    "add ** before the parameter name if you do not know how many keyword arguements that will be passed."
   ]
  },
  {
   "cell_type": "code",
   "execution_count": 5,
   "metadata": {},
   "outputs": [
    {
     "name": "stdout",
     "output_type": "stream",
     "text": [
      "apple\n",
      "banana\n",
      "cherry\n"
     ]
    }
   ],
   "source": [
    "def my_function(food):\n",
    "  for x in food:\n",
    "    print(x)\n",
    "\n",
    "fruits = [\"apple\", \"banana\", \"cherry\"]\n",
    "\n",
    "my_function(fruits)"
   ]
  },
  {
   "cell_type": "code",
   "execution_count": 3,
   "metadata": {},
   "outputs": [
    {
     "name": "stdout",
     "output_type": "stream",
     "text": [
      "The youngest child is Linus\n",
      "The youngest child is Tobias\n",
      "I am from Sweden\n",
      "I am from India\n",
      "I am from Norway\n",
      "I am from Brazil\n"
     ]
    }
   ],
   "source": [
    "def my_function(child3, child2, child1):\n",
    "  print(\"The youngest child is \" + child3)\n",
    "  print(\"The youngest child is \" + child2)\n",
    "\n",
    "my_function(child1 = \"Emil\", child2 = \"Tobias\", child3 = \"Linus\")\n",
    "\n",
    "def my_function(country = \"Norway\"):\n",
    "  print(\"I am from \" + country)\n",
    "\n",
    "my_function(\"Sweden\")\n",
    "my_function(\"India\")\n",
    "my_function()\n",
    "my_function(\"Brazil\")"
   ]
  },
  {
   "cell_type": "code",
   "execution_count": 8,
   "metadata": {},
   "outputs": [
    {
     "name": "stdout",
     "output_type": "stream",
     "text": [
      "Your name is: Susan Mamu\n",
      "Your name is: Amanda\n"
     ]
    }
   ],
   "source": [
    "# passing a single parameter into a function\n",
    "def printName(full_name):\n",
    "    print(\"Your name is: {}\".format(full_name))\n",
    "printName(\"Susan Mamu\")\n",
    "printName(\"Amanda\")"
   ]
  },
  {
   "cell_type": "markdown",
   "metadata": {},
   "source": [
    "# Passing a list\n"
   ]
  },
  {
   "cell_type": "code",
   "execution_count": 9,
   "metadata": {},
   "outputs": [
    {
     "name": "stdout",
     "output_type": "stream",
     "text": [
      "2\n",
      "4\n",
      "6\n",
      "8\n",
      "4\n",
      "8\n",
      "4\n",
      "4\n",
      "8\n",
      "6\n",
      "8\n",
      "10\n",
      "6\n",
      "10\n"
     ]
    }
   ],
   "source": [
    "# using a function to square all information\n",
    "numbers1 = [1,2,3,4,2,4,2]\n",
    "numbers2 = [2,4,3,4,5,3,5]\n",
    "def squares(nums):\n",
    "    for num in nums:\n",
    "        print(num*2)\n",
    "squares(numbers1)\n",
    "squares(numbers2)"
   ]
  },
  {
   "cell_type": "code",
   "execution_count": 10,
   "metadata": {},
   "outputs": [
    {
     "name": "stdout",
     "output_type": "stream",
     "text": [
      "2.5\n",
      "5\n"
     ]
    }
   ],
   "source": [
    "def addNums(num1,num2):\n",
    "    print(num2)\n",
    "    print(num1)\n",
    "addNums(5,num2 = 2.5)"
   ]
  },
  {
   "cell_type": "markdown",
   "metadata": {},
   "source": [
    "# *args\n",
    "allows you to make functions more modular.The magic it's the unary operator(*)\n",
    "\n"
   ]
  },
  {
   "cell_type": "markdown",
   "metadata": {},
   "source": [
    "# Exercise\n",
    "1. User input. Ask the user to input a wprd and pass that word in to a function that checks if the word starts with an uppercase.if it does output \"True\",\n",
    "otherwise \"false\""
   ]
  },
  {
   "cell_type": "code",
   "execution_count": 6,
   "metadata": {},
   "outputs": [
    {
     "name": "stdout",
     "output_type": "stream",
     "text": [
      "True\n"
     ]
    }
   ],
   "source": [
    "def checkUppercase(word):\n",
    "    if word[0] == word[0].upper():\n",
    "        print(True)\n",
    "    else:\n",
    "        print(False)\n",
    "        \n",
    "ans = input(\"Enter a word: \")\n",
    "\n",
    "checkUppercase(ans)\n"
   ]
  },
  {
   "cell_type": "markdown",
   "metadata": {},
   "source": [
    "# Return Statement\n",
    "It is used to send information jback to where the function call occurred.\n"
   ]
  },
  {
   "cell_type": "code",
   "execution_count": 7,
   "metadata": {},
   "outputs": [
    {
     "name": "stdout",
     "output_type": "stream",
     "text": [
      "10.0\n",
      "20\n"
     ]
    }
   ],
   "source": [
    "# using return keyword to return the sum of two numbers\n",
    "def addNums(num1 , num2):\n",
    "    return num1 + num2\n",
    "num = addNums(5.5,4.5)    #saves return value into num\n",
    "print(num)\n",
    "print(addNums(10,10))    # doesn't save return value"
   ]
  },
  {
   "cell_type": "markdown",
   "metadata": {},
   "source": []
  },
  {
   "cell_type": "markdown",
   "metadata": {},
   "source": [
    "# Ternary operator\n",
    "syntax\n",
    "result = true_value if condition else false_value\n",
    "\n",
    "# Scope\n",
    "global scope - is when you declare a variable to be accessible to an entire file or application.\n",
    "\n",
    "function scope is in reference to variables being declared and accessib;e only within funtions.Avariable declared inside of a fucntion cannot be accessed outside of the function as once the function terminates so do the variables declared within it."
   ]
  },
  {
   "cell_type": "code",
   "execution_count": 3,
   "metadata": {},
   "outputs": [
    {
     "name": "stdout",
     "output_type": "stream",
     "text": [
      "Emil Sue\n"
     ]
    }
   ],
   "source": [
    "def my_function(fname, lname):\n",
    "  print(fname + \" \" + lname)\n",
    "\n",
    "my_function(\"Emil\", \"Sue\")"
   ]
  },
  {
   "cell_type": "code",
   "execution_count": 4,
   "metadata": {},
   "outputs": [
    {
     "ename": "TypeError",
     "evalue": "my_function() missing 1 required positional argument: 'lname'",
     "output_type": "error",
     "traceback": [
      "\u001b[1;31m---------------------------------------------------------------------------\u001b[0m",
      "\u001b[1;31mTypeError\u001b[0m                                 Traceback (most recent call last)",
      "Cell \u001b[1;32mIn[4], line 4\u001b[0m\n\u001b[0;32m      1\u001b[0m \u001b[38;5;28;01mdef\u001b[39;00m \u001b[38;5;21mmy_function\u001b[39m(fname, lname):\n\u001b[0;32m      2\u001b[0m   \u001b[38;5;28mprint\u001b[39m(fname \u001b[38;5;241m+\u001b[39m \u001b[38;5;124m\"\u001b[39m\u001b[38;5;124m \u001b[39m\u001b[38;5;124m\"\u001b[39m \u001b[38;5;241m+\u001b[39m lname)\n\u001b[1;32m----> 4\u001b[0m \u001b[43mmy_function\u001b[49m\u001b[43m(\u001b[49m\u001b[38;5;124;43m\"\u001b[39;49m\u001b[38;5;124;43mEmil\u001b[39;49m\u001b[38;5;124;43m\"\u001b[39;49m\u001b[43m)\u001b[49m\n",
      "\u001b[1;31mTypeError\u001b[0m: my_function() missing 1 required positional argument: 'lname'"
     ]
    }
   ],
   "source": [
    "def my_function(fname, lname):\n",
    "  print(fname + \" \" + lname)\n",
    "\n",
    "my_function(\"Emil\")"
   ]
  },
  {
   "cell_type": "markdown",
   "metadata": {},
   "source": [
    "# Arbitraty arguements\n",
    "Add a * before the parameter name in the function definition if you do not know how many arguements that will be passed in to your function.\n",
    "\n",
    "They are shortened to *args in python documentation\n",
    "\n",
    "# Keyword arguments.(kwargs)\n",
    "You can also send arguments with key=value syntax.\n",
    "Order of arguments does not matter.\n",
    "\n",
    "# Arbitrary Keyword Arguments(**kwargs)\n",
    "If you do not know how many keyword arguments that will be passed into your function, add two asterist: ** before the parameter name in the function definition.\n",
    "\n",
    "# You can pass different data types in a function.\n",
    "\n",
    "# Return statement.\n",
    "when you want the function to return a value use the return statement\n",
    "\n",
    "# Positional-Only Arguments\n",
    "You can specify that a function can have ONLY positional arguments or ONLY keyword arguments, add ,/ after the arguments.\n",
    "\n",
    "# Keyword- Only Arguments\n",
    "\n",
    "To specify a funtion will have only keywords args , add *, before the arguments.\n",
    "\n",
    "# Combine Positional-Only and keyword-only\n",
    "Any arg before the /, are positional-only and any arg after the *, are keyword -only.\n",
    "\n",
    "# Recursion.\n",
    "A defined function can call itself."
   ]
  },
  {
   "cell_type": "markdown",
   "metadata": {},
   "source": []
  },
  {
   "cell_type": "code",
   "execution_count": 8,
   "metadata": {},
   "outputs": [
    {
     "name": "stdout",
     "output_type": "stream",
     "text": [
      "The youngest child is Tobias\n"
     ]
    }
   ],
   "source": [
    "# Arbitrary arguments\n",
    "\n",
    "def my_function(*kids):\n",
    "  print(\"The youngest child is \" + kids[1])\n",
    "\n",
    "my_function(\"Emil\", \"Tobias\", \"Linus\")"
   ]
  },
  {
   "cell_type": "code",
   "execution_count": 9,
   "metadata": {},
   "outputs": [
    {
     "name": "stdout",
     "output_type": "stream",
     "text": [
      "The youngest child is Linus\n"
     ]
    }
   ],
   "source": [
    "# keyword arguments\n",
    "def my_function(child3, child2, child1):\n",
    "  print(\"The youngest child is \" + child3)\n",
    "\n",
    "my_function(child1 = \"Emil\", child2 = \"Tobias\", child3 = \"Linus\")"
   ]
  },
  {
   "cell_type": "code",
   "execution_count": 10,
   "metadata": {},
   "outputs": [
    {
     "name": "stdout",
     "output_type": "stream",
     "text": [
      "His last name is Refsnes\n"
     ]
    }
   ],
   "source": [
    "# **kwargs example\n",
    "def my_function(**kid):\n",
    "  print(\"His last name is \" + kid[\"lname\"])\n",
    "\n",
    "my_function(fname = \"Tobias\", lname = \"Refsnes\")"
   ]
  },
  {
   "cell_type": "code",
   "execution_count": 12,
   "metadata": {},
   "outputs": [
    {
     "name": "stdout",
     "output_type": "stream",
     "text": [
      "30\n",
      "50\n",
      "90\n"
     ]
    }
   ],
   "source": [
    "# Return statement\n",
    "def my_function(x):\n",
    "  return 10 * x\n",
    "\n",
    "print(my_function(3))\n",
    "print(my_function(5))\n",
    "print(my_function(9))"
   ]
  },
  {
   "cell_type": "code",
   "execution_count": 17,
   "metadata": {},
   "outputs": [
    {
     "name": "stdout",
     "output_type": "stream",
     "text": [
      "1\n"
     ]
    }
   ],
   "source": [
    "# Positional-Only args\n",
    "\n",
    "def my_function(x,/):\n",
    "  print(x)\n",
    "\n",
    "my_function(1)"
   ]
  },
  {
   "cell_type": "code",
   "execution_count": 18,
   "metadata": {},
   "outputs": [
    {
     "name": "stdout",
     "output_type": "stream",
     "text": [
      "26\n"
     ]
    }
   ],
   "source": [
    "# combine positional-only and positional-only\n",
    "def my_function(a, b, /, *, c, d):\n",
    "  print(a + b + c + d)\n",
    "\n",
    "my_function(5, 6, c = 7, d = 8)"
   ]
  },
  {
   "cell_type": "code",
   "execution_count": null,
   "metadata": {},
   "outputs": [],
   "source": []
  }
 ],
 "metadata": {
  "kernelspec": {
   "display_name": "Python 3",
   "language": "python",
   "name": "python3"
  },
  "language_info": {
   "codemirror_mode": {
    "name": "ipython",
    "version": 3
   },
   "file_extension": ".py",
   "mimetype": "text/x-python",
   "name": "python",
   "nbconvert_exporter": "python",
   "pygments_lexer": "ipython3",
   "version": "3.12.1"
  }
 },
 "nbformat": 4,
 "nbformat_minor": 2
}
