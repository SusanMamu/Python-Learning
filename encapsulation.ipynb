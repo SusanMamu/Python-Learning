{
 "cells": [
  {
   "cell_type": "code",
   "execution_count": 2,
   "metadata": {},
   "outputs": [
    {
     "name": "stdout",
     "output_type": "stream",
     "text": [
      "Balance: 1000\n",
      "Insufficient funds\n",
      "Balance after withdrawal:  1000\n"
     ]
    }
   ],
   "source": [
    "class BankAccount:\n",
    "    def __init__(self,account_number,balance=0):\n",
    "        self._account_number = account_number\n",
    "        self.__balance = balance  # private attribute\n",
    "\n",
    "    def deposit(self,amount):\n",
    "        self.__balance += amount\n",
    "\n",
    "    def withdraw(self,amount):\n",
    "        if self.__balance >= amount:\n",
    "            self.__balance -= amount\n",
    "\n",
    "        else:\n",
    "            print(\"Insufficient funds\")\n",
    "\n",
    "    def get_balance(self):\n",
    "        return self.__balance\n",
    "    \n",
    "# create a bank account\n",
    "acc = BankAccount(\"1234567\")\n",
    "acc.deposit(1000)\n",
    "print(\"Balance:\", acc.get_balance())\n",
    "acc.withdraw(2000)\n",
    "print(\"Balance after withdrawal: \", acc.get_balance())"
   ]
  },
  {
   "cell_type": "code",
   "execution_count": 3,
   "metadata": {},
   "outputs": [
    {
     "name": "stdout",
     "output_type": "stream",
     "text": [
      "Name:  Hope\n",
      "Employee ID:  1000\n",
      "Employee rank:  Manager\n"
     ]
    }
   ],
   "source": [
    "class Employee:\n",
    "    def __init__(self, name,emp_id,rank):\n",
    "        self._name = name\n",
    "        self.__emp_id = emp_id   # private attribute\n",
    "        self.rank = rank\n",
    "    \n",
    "    def display_employee(self):\n",
    "        print(\"Name: \", self._name)\n",
    "        print(\"Employee ID: \", self.__emp_id)\n",
    "        print(\"Employee rank: \",self.rank)\n",
    "\n",
    "# Create an employee profile\n",
    "emp = Employee(\"Hope\",1000,\"Manager\")\n",
    "emp.display_employee()\n"
   ]
  },
  {
   "cell_type": "code",
   "execution_count": 4,
   "metadata": {},
   "outputs": [
    {
     "name": "stdout",
     "output_type": "stream",
     "text": [
      "Sender@gmail.com recipient@gmail.com Hello This is a test email\n"
     ]
    }
   ],
   "source": [
    "class EmailMessage:\n",
    "    def __init__(self,sender,recipient,subject,body):\n",
    "        self._sender =sender\n",
    "        self._recipient = recipient\n",
    "        self._subject =subject\n",
    "        self._body = body\n",
    "\n",
    "    def send(self):\n",
    "        print(\"Sender@gmail.com\",\"recipient@gmail.com\",\"Hello\",\"This is a test email\")\n",
    "\n",
    "# Create an email messange\n",
    "msg = EmailMessage(\"Sender@gmail.com\",\"recipient@gmail.com\",\"Hello\",\"This is a test email\")\n",
    "msg.send()\n",
    "        "
   ]
  },
  {
   "cell_type": "code",
   "execution_count": null,
   "metadata": {},
   "outputs": [],
   "source": []
  }
 ],
 "metadata": {
  "kernelspec": {
   "display_name": "Python 3",
   "language": "python",
   "name": "python3"
  },
  "language_info": {
   "codemirror_mode": {
    "name": "ipython",
    "version": 3
   },
   "file_extension": ".py",
   "mimetype": "text/x-python",
   "name": "python",
   "nbconvert_exporter": "python",
   "pygments_lexer": "ipython3",
   "version": "3.12.1"
  }
 },
 "nbformat": 4,
 "nbformat_minor": 2
}
