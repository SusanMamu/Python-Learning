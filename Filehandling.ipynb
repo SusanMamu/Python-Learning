{
 "cells": [
  {
   "cell_type": "markdown",
   "metadata": {},
   "source": [
    "# File handling\n",
    "- The key function for working with files in python is the open() function.\n",
    "- The open() function takes two parameters ; file name, mode \n",
    "\n",
    "# Modes of opening a file\n",
    "- r - read Default value.Opens a file for reading , error if the file does not exist.\n",
    "- a - append opens a file for appending , creates the file if it doesnot exist\n",
    "- w - write Opens a file for writing, creates the file of it does not exist.\n",
    "- x create Creates the specified file, returns an error if the file exists.\n",
    "\n",
    "\n",
    "# NB\n",
    "You can also specify if the file should be handled as binary or text mode\n",
    " t - text .Default value. Text mode\n",
    " b - binary mode eg images\n",
    "\n",
    "\n",
    " # Syntax\n",
    " f = open(\"Demofile\",'rt')"
   ]
  },
  {
   "cell_type": "code",
   "execution_count": 5,
   "metadata": {},
   "outputs": [
    {
     "name": "stdout",
     "output_type": "stream",
     "text": [
      "Good morning!\n",
      "Welcome to today’s class.\n",
      "\n",
      "We will be learning on file handling in Python.\n",
      "A beginners guide in Python.\n",
      "\n"
     ]
    }
   ],
   "source": [
    "f = open(\"Text.txt\",\"r\")\n",
    "print(f.read())\n",
    "\n",
    "\n",
    "# If the file is stored in a different file , specify the path"
   ]
  },
  {
   "cell_type": "markdown",
   "metadata": {},
   "source": [
    "# Read lines\n",
    "- You can return one line by using the readline() method."
   ]
  },
  {
   "cell_type": "code",
   "execution_count": 10,
   "metadata": {},
   "outputs": [
    {
     "name": "stdout",
     "output_type": "stream",
     "text": [
      "Good morning!\n",
      "\n",
      "Welcome to today’s class.\n",
      "\n",
      "\n",
      "\n",
      "We will be learning on file handling in Python.\n",
      "\n",
      "A beginners guide in Python.\n",
      "\n"
     ]
    }
   ],
   "source": [
    "f = open(\"Text.txt\",\"r\")\n",
    "print(f.readline())\n",
    "print(f.readline())\n",
    " \n",
    " # You can read the whole file by looping through the lines\n",
    "for x in f:\n",
    "    print(x)\n",
    "\n",
    "f.close()  # It's always good to close a file when done ."
   ]
  },
  {
   "cell_type": "markdown",
   "metadata": {},
   "source": [
    "# Writing to an existing File\n",
    "- Add a parameter to the open() function : \n",
    "\n",
    "- \"a\" - will append to the end of the file.\n",
    "\n",
    "- \"w\" - write - will overwrite any existing content.\n"
   ]
  },
  {
   "cell_type": "code",
   "execution_count": 14,
   "metadata": {},
   "outputs": [
    {
     "name": "stdout",
     "output_type": "stream",
     "text": [
      "Good morning!\n",
      "Welcome to today’s class.\n",
      "\n",
      "We will be learning on file handling in Python.\n",
      "A beginners guide in Python.\n",
      "Let's begin by defining what files are.\n"
     ]
    }
   ],
   "source": [
    "f = open(\"Text.txt\",\"a\")\n",
    "f.write(\"Let's begin by defining what files are.\")\n",
    "f.close()\n",
    "\n",
    "# Open and read the file after appending\n",
    "f = open(\"Text.txt\",\"r\")\n",
    "print(f.read())\n",
    "\n",
    "\n"
   ]
  },
  {
   "cell_type": "code",
   "execution_count": 15,
   "metadata": {},
   "outputs": [
    {
     "name": "stdout",
     "output_type": "stream",
     "text": [
      "Woops!This course is done!\n"
     ]
    }
   ],
   "source": [
    "f=open(\"Text.txt\",\"w\")  # w method overrided the entire file.\n",
    "f.write(\"Woops!This course is done!\")\n",
    "f.close()\n",
    "\n",
    "f=open(\"Text.txt\",\"r\")\n",
    "print(f.read())"
   ]
  },
  {
   "cell_type": "markdown",
   "metadata": {},
   "source": [
    "# Creating a new file\n",
    "- To create file using one of the below parameters;\n",
    "- x - create will create a file , returns an error if the file exists\n",
    "- a append will create a file if the specified file doesnot exist.\n",
    "- w  write will create a file if the specified does not exist."
   ]
  },
  {
   "cell_type": "code",
   "execution_count": 26,
   "metadata": {},
   "outputs": [],
   "source": [
    "f = open(\"New text1.txt\",\"x\")\n"
   ]
  },
  {
   "cell_type": "code",
   "execution_count": 23,
   "metadata": {},
   "outputs": [],
   "source": [
    "f = open(\"New text.txt\",\"w\")\n",
    "f.close()"
   ]
  },
  {
   "cell_type": "markdown",
   "metadata": {},
   "source": [
    "# Delete a File\n",
    "- To delete a file , you must import the OS module and run its os.remove() function.\n"
   ]
  },
  {
   "cell_type": "code",
   "execution_count": 25,
   "metadata": {},
   "outputs": [],
   "source": [
    "import os\n",
    "if os.path.exists(\"New text.txt\"):\n",
    "  os.remove(\"New text.txt\")\n",
    "else:\n",
    "  print(\"The file does not exist\")\n"
   ]
  },
  {
   "cell_type": "markdown",
   "metadata": {},
   "source": [
    "# Delete  Folder\n",
    "- To delete an entire folder, use the os.rmdir() method.\n",
    "\n",
    "syntax\n",
    "import os\n",
    "os.rmdir(\"myfolder\")\n",
    "\n",
    "# Nb you can only remove empty folders.\n"
   ]
  },
  {
   "cell_type": "code",
   "execution_count": 14,
   "metadata": {},
   "outputs": [
    {
     "name": "stdout",
     "output_type": "stream",
     "text": [
      "go home\n"
     ]
    }
   ],
   "source": [
    "# Reading a file \n",
    "\n",
    "file = open('text.txt','r')\n",
    "file_contents = file.read()\n",
    "file.close\n",
    "\n",
    "\n",
    "print(file_contents)"
   ]
  },
  {
   "cell_type": "code",
   "execution_count": 15,
   "metadata": {},
   "outputs": [
    {
     "name": "stdout",
     "output_type": "stream",
     "text": [
      "7\n"
     ]
    }
   ],
   "source": [
    "file = open('Text.txt', 'w')\n",
    "file_contents = file.write(\"go home\")  # Enclosing the string in quotes\n",
    "file.close()  # Adding parentheses to call the close method\n",
    "print(file_contents)\n",
    "\n"
   ]
  },
  {
   "cell_type": "markdown",
   "metadata": {},
   "source": []
  },
  {
   "cell_type": "code",
   "execution_count": null,
   "metadata": {},
   "outputs": [],
   "source": []
  },
  {
   "cell_type": "code",
   "execution_count": null,
   "metadata": {},
   "outputs": [],
   "source": []
  }
 ],
 "metadata": {
  "kernelspec": {
   "display_name": "Python 3",
   "language": "python",
   "name": "python3"
  },
  "language_info": {
   "codemirror_mode": {
    "name": "ipython",
    "version": 3
   },
   "file_extension": ".py",
   "mimetype": "text/x-python",
   "name": "python",
   "nbconvert_exporter": "python",
   "pygments_lexer": "ipython3",
   "version": "3.12.1"
  }
 },
 "nbformat": 4,
 "nbformat_minor": 2
}
