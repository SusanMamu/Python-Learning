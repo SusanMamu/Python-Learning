{
 "cells": [
  {
   "cell_type": "markdown",
   "metadata": {},
   "source": [
    "# Creating a hangman game\n",
    "Follow the below steps\n",
    "1. Select a word to play with\n",
    "2. Ask user for input\n",
    "3. Check if guess is correct\n",
    "a. if it is ,show the letter in the proper place\n",
    "b. if it isn't lose a life\n",
    "4.continue sreps 2 and 3 until one of the following occurs:\n",
    " a. the user guesses the word correctly\n",
    " b. the user loses all their lives.\n"
   ]
  },
  {
   "cell_type": "code",
   "execution_count": 2,
   "metadata": {},
   "outputs": [
    {
     "name": "stdout",
     "output_type": "stream",
     "text": [
      "Thanks for playing\n"
     ]
    }
   ],
   "source": [
    "#step 1. import additional functions\n",
    "from random import choice    # choice selects a random item from a list\n",
    "from IPython.display import clear_output\n",
    "# declare game variables\n",
    "words = [\"tree\",\"basket\",\"chair\",\"paper\",\"python\"]\n",
    "word = choice(words)   #randomly chooses a word from words list\n",
    "guessed, lives, game_over = [], 7, False  #multi variable assignment\n",
    "# create a list of underscores to the length of the word\n",
    "guesses = [\"_\"]*len(word)\n",
    "#create the main game loop\n",
    "while not game_over:\n",
    "    ans = input(\"Type quit or guess a letter: \").lower()\n",
    "    if ans == \"quit\":\n",
    "        print(\"Thanks for playing\")\n",
    "        game_over = True\n",
    "while not game_over: \n",
    "    # out put game information\\\n",
    "    hidden_word = \"\".join(guesses)\n",
    "    print(\"Word to guess: {}\".format(hidden_word))\n",
    "    print(\"Lives: {}\".format(Lives))\n",
    "    ans = input "
   ]
  },
  {
   "cell_type": "code",
   "execution_count": null,
   "metadata": {},
   "outputs": [],
   "source": []
  }
 ],
 "metadata": {
  "kernelspec": {
   "display_name": "Python 3",
   "language": "python",
   "name": "python3"
  },
  "language_info": {
   "codemirror_mode": {
    "name": "ipython",
    "version": 3
   },
   "file_extension": ".py",
   "mimetype": "text/x-python",
   "name": "python",
   "nbconvert_exporter": "python",
   "pygments_lexer": "ipython3",
   "version": "3.12.1"
  }
 },
 "nbformat": 4,
 "nbformat_minor": 2
}
